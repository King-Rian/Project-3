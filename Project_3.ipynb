{
  "nbformat": 4,
  "nbformat_minor": 0,
  "metadata": {
    "colab": {
      "provenance": [],
      "include_colab_link": true
    },
    "kernelspec": {
      "name": "python3",
      "display_name": "Python 3"
    },
    "language_info": {
      "name": "python"
    },
    "widgets": {
      "application/vnd.jupyter.widget-state+json": {
        "8607a3ce4550425b99bef5437b1f02f7": {
          "model_module": "@jupyter-widgets/controls",
          "model_name": "HBoxModel",
          "model_module_version": "1.5.0",
          "state": {
            "_dom_classes": [],
            "_model_module": "@jupyter-widgets/controls",
            "_model_module_version": "1.5.0",
            "_model_name": "HBoxModel",
            "_view_count": null,
            "_view_module": "@jupyter-widgets/controls",
            "_view_module_version": "1.5.0",
            "_view_name": "HBoxView",
            "box_style": "",
            "children": [
              "IPY_MODEL_569c098c6871462f8fcd75163ffa66fa",
              "IPY_MODEL_4d65f560137d4b279211ef878a0b0083",
              "IPY_MODEL_295d58d571944ae5a051a6dbbabe9517"
            ],
            "layout": "IPY_MODEL_774bc4f060794585b81bc43345e23ac7"
          }
        },
        "f32bf02ca94347bb9514967c180e87f0": {
          "model_module": "@jupyter-widgets/controls",
          "model_name": "HBoxModel",
          "model_module_version": "1.5.0",
          "state": {
            "_dom_classes": [],
            "_model_module": "@jupyter-widgets/controls",
            "_model_module_version": "1.5.0",
            "_model_name": "HBoxModel",
            "_view_count": null,
            "_view_module": "@jupyter-widgets/controls",
            "_view_module_version": "1.5.0",
            "_view_name": "HBoxView",
            "box_style": "",
            "children": [
              "IPY_MODEL_b144140e3c7b44f5a8bb6679ce2f7405",
              "IPY_MODEL_d9817b3f331649deb47fd0a1da3d397f",
              "IPY_MODEL_113ce06964054310bf2fb0755fbd3ff5"
            ],
            "layout": "IPY_MODEL_9e8836ff56a34c439566ec15162813cb"
          }
        },
        "3bfc948ea84e405dbd67de2e46fcda7a": {
          "model_module": "@jupyter-widgets/controls",
          "model_name": "HBoxModel",
          "model_module_version": "1.5.0",
          "state": {
            "_dom_classes": [],
            "_model_module": "@jupyter-widgets/controls",
            "_model_module_version": "1.5.0",
            "_model_name": "HBoxModel",
            "_view_count": null,
            "_view_module": "@jupyter-widgets/controls",
            "_view_module_version": "1.5.0",
            "_view_name": "HBoxView",
            "box_style": "",
            "children": [
              "IPY_MODEL_f7be93dcd7a74c3dbb6bc3e6b369bae1",
              "IPY_MODEL_76b97e58f9614c33be55b2ef899db4bf",
              "IPY_MODEL_9055867e6de24ec9b21829c9b8ec7ec8"
            ],
            "layout": "IPY_MODEL_86afaaf70321408abefd13ce3ee77f18"
          }
        },
        "1f9cf9de55b64290a744b0f52c28b765": {
          "model_module": "@jupyter-widgets/controls",
          "model_name": "HBoxModel",
          "model_module_version": "1.5.0",
          "state": {
            "_dom_classes": [],
            "_model_module": "@jupyter-widgets/controls",
            "_model_module_version": "1.5.0",
            "_model_name": "HBoxModel",
            "_view_count": null,
            "_view_module": "@jupyter-widgets/controls",
            "_view_module_version": "1.5.0",
            "_view_name": "HBoxView",
            "box_style": "",
            "children": [
              "IPY_MODEL_1862938c49cc4fe8a2fff82e427fea70",
              "IPY_MODEL_d281a7e60c154465a2dc65f25ce3f884",
              "IPY_MODEL_e3c88df2d01f46bd8017f13c83bc03a9"
            ],
            "layout": "IPY_MODEL_5717bbc259c346e299178eec0b7cfbe5"
          }
        },
        "0aff8c61ece8441e872353d1891fd7b5": {
          "model_module": "@jupyter-widgets/controls",
          "model_name": "HBoxModel",
          "model_module_version": "1.5.0",
          "state": {
            "_dom_classes": [],
            "_model_module": "@jupyter-widgets/controls",
            "_model_module_version": "1.5.0",
            "_model_name": "HBoxModel",
            "_view_count": null,
            "_view_module": "@jupyter-widgets/controls",
            "_view_module_version": "1.5.0",
            "_view_name": "HBoxView",
            "box_style": "",
            "children": [
              "IPY_MODEL_6e271fc283ee47c8a746df443076589b",
              "IPY_MODEL_6733b64be97e438cbdc7d101e018e4a6",
              "IPY_MODEL_481bebcc49ab4a199022dc17f6364e22"
            ],
            "layout": "IPY_MODEL_c865120ae91149c7b15c7684a06778a0"
          }
        },
        "b52a050c678d44dcb7e6df882cd41a2c": {
          "model_module": "@jupyter-widgets/controls",
          "model_name": "HBoxModel",
          "model_module_version": "1.5.0",
          "state": {
            "_dom_classes": [],
            "_model_module": "@jupyter-widgets/controls",
            "_model_module_version": "1.5.0",
            "_model_name": "HBoxModel",
            "_view_count": null,
            "_view_module": "@jupyter-widgets/controls",
            "_view_module_version": "1.5.0",
            "_view_name": "HBoxView",
            "box_style": "",
            "children": [
              "IPY_MODEL_b5d25f818ddb4814a69a1678b2441e0b",
              "IPY_MODEL_7022add0e7304e4d81f6db865c7945c0",
              "IPY_MODEL_d287eedf3cb8460ca7b6d2817730685a"
            ],
            "layout": "IPY_MODEL_15399e1da9ad411c95554c077a0d93ba"
          }
        },
        "78f27f9090394db7ac712dcb9bb76f76": {
          "model_module": "@jupyter-widgets/controls",
          "model_name": "HBoxModel",
          "model_module_version": "1.5.0",
          "state": {
            "_dom_classes": [],
            "_model_module": "@jupyter-widgets/controls",
            "_model_module_version": "1.5.0",
            "_model_name": "HBoxModel",
            "_view_count": null,
            "_view_module": "@jupyter-widgets/controls",
            "_view_module_version": "1.5.0",
            "_view_name": "HBoxView",
            "box_style": "",
            "children": [
              "IPY_MODEL_3544c6448d8943e48e46037580e3afcd",
              "IPY_MODEL_40da38b51edf4c8a820054c3cc4983ee",
              "IPY_MODEL_3e1caa2fb13240d98af93f8224df6169"
            ],
            "layout": "IPY_MODEL_a2d6796dda7c496fbbaa4cdf05279b2c"
          }
        },
        "e7d3730c5272446181ffcf7d6c706941": {
          "model_module": "@jupyter-widgets/controls",
          "model_name": "HBoxModel",
          "model_module_version": "1.5.0",
          "state": {
            "_dom_classes": [],
            "_model_module": "@jupyter-widgets/controls",
            "_model_module_version": "1.5.0",
            "_model_name": "HBoxModel",
            "_view_count": null,
            "_view_module": "@jupyter-widgets/controls",
            "_view_module_version": "1.5.0",
            "_view_name": "HBoxView",
            "box_style": "",
            "children": [
              "IPY_MODEL_68b4f5fd6ccc465c990ed045fb0dc882",
              "IPY_MODEL_a2f2e2e7975644c18d4e662081ae52dd",
              "IPY_MODEL_e8029589797e43e49335492555047222"
            ],
            "layout": "IPY_MODEL_67450fb6f0954d7baa035121af9bd905"
          }
        },
        "68b4f5fd6ccc465c990ed045fb0dc882": {
          "model_module": "@jupyter-widgets/controls",
          "model_name": "HTMLModel",
          "model_module_version": "1.5.0",
          "state": {
            "_dom_classes": [],
            "_model_module": "@jupyter-widgets/controls",
            "_model_module_version": "1.5.0",
            "_model_name": "HTMLModel",
            "_view_count": null,
            "_view_module": "@jupyter-widgets/controls",
            "_view_module_version": "1.5.0",
            "_view_name": "HTMLView",
            "description": "",
            "description_tooltip": null,
            "layout": "IPY_MODEL_37a2e6a287e64675b1f3d8ebef8be72b",
            "placeholder": "​",
            "style": "IPY_MODEL_f6d82be250724a06b84c4747c98140ff",
            "value": "tokenizer_config.json: 100%"
          }
        },
        "a2f2e2e7975644c18d4e662081ae52dd": {
          "model_module": "@jupyter-widgets/controls",
          "model_name": "FloatProgressModel",
          "model_module_version": "1.5.0",
          "state": {
            "_dom_classes": [],
            "_model_module": "@jupyter-widgets/controls",
            "_model_module_version": "1.5.0",
            "_model_name": "FloatProgressModel",
            "_view_count": null,
            "_view_module": "@jupyter-widgets/controls",
            "_view_module_version": "1.5.0",
            "_view_name": "ProgressView",
            "bar_style": "success",
            "description": "",
            "description_tooltip": null,
            "layout": "IPY_MODEL_d26f003656d640839e9040ab79dee46c",
            "max": 2324,
            "min": 0,
            "orientation": "horizontal",
            "style": "IPY_MODEL_27930cbd4b114c888fef29d961326ea6",
            "value": 2324
          }
        },
        "e8029589797e43e49335492555047222": {
          "model_module": "@jupyter-widgets/controls",
          "model_name": "HTMLModel",
          "model_module_version": "1.5.0",
          "state": {
            "_dom_classes": [],
            "_model_module": "@jupyter-widgets/controls",
            "_model_module_version": "1.5.0",
            "_model_name": "HTMLModel",
            "_view_count": null,
            "_view_module": "@jupyter-widgets/controls",
            "_view_module_version": "1.5.0",
            "_view_name": "HTMLView",
            "description": "",
            "description_tooltip": null,
            "layout": "IPY_MODEL_a7507b95b5624e6eb3e5be074046a1c4",
            "placeholder": "​",
            "style": "IPY_MODEL_747babc72b884fb4bfab5899272721ff",
            "value": " 2.32k/2.32k [00:00&lt;00:00, 33.4kB/s]"
          }
        },
        "67450fb6f0954d7baa035121af9bd905": {
          "model_module": "@jupyter-widgets/base",
          "model_name": "LayoutModel",
          "model_module_version": "1.2.0",
          "state": {
            "_model_module": "@jupyter-widgets/base",
            "_model_module_version": "1.2.0",
            "_model_name": "LayoutModel",
            "_view_count": null,
            "_view_module": "@jupyter-widgets/base",
            "_view_module_version": "1.2.0",
            "_view_name": "LayoutView",
            "align_content": null,
            "align_items": null,
            "align_self": null,
            "border": null,
            "bottom": null,
            "display": null,
            "flex": null,
            "flex_flow": null,
            "grid_area": null,
            "grid_auto_columns": null,
            "grid_auto_flow": null,
            "grid_auto_rows": null,
            "grid_column": null,
            "grid_gap": null,
            "grid_row": null,
            "grid_template_areas": null,
            "grid_template_columns": null,
            "grid_template_rows": null,
            "height": null,
            "justify_content": null,
            "justify_items": null,
            "left": null,
            "margin": null,
            "max_height": null,
            "max_width": null,
            "min_height": null,
            "min_width": null,
            "object_fit": null,
            "object_position": null,
            "order": null,
            "overflow": null,
            "overflow_x": null,
            "overflow_y": null,
            "padding": null,
            "right": null,
            "top": null,
            "visibility": null,
            "width": null
          }
        },
        "37a2e6a287e64675b1f3d8ebef8be72b": {
          "model_module": "@jupyter-widgets/base",
          "model_name": "LayoutModel",
          "model_module_version": "1.2.0",
          "state": {
            "_model_module": "@jupyter-widgets/base",
            "_model_module_version": "1.2.0",
            "_model_name": "LayoutModel",
            "_view_count": null,
            "_view_module": "@jupyter-widgets/base",
            "_view_module_version": "1.2.0",
            "_view_name": "LayoutView",
            "align_content": null,
            "align_items": null,
            "align_self": null,
            "border": null,
            "bottom": null,
            "display": null,
            "flex": null,
            "flex_flow": null,
            "grid_area": null,
            "grid_auto_columns": null,
            "grid_auto_flow": null,
            "grid_auto_rows": null,
            "grid_column": null,
            "grid_gap": null,
            "grid_row": null,
            "grid_template_areas": null,
            "grid_template_columns": null,
            "grid_template_rows": null,
            "height": null,
            "justify_content": null,
            "justify_items": null,
            "left": null,
            "margin": null,
            "max_height": null,
            "max_width": null,
            "min_height": null,
            "min_width": null,
            "object_fit": null,
            "object_position": null,
            "order": null,
            "overflow": null,
            "overflow_x": null,
            "overflow_y": null,
            "padding": null,
            "right": null,
            "top": null,
            "visibility": null,
            "width": null
          }
        },
        "f6d82be250724a06b84c4747c98140ff": {
          "model_module": "@jupyter-widgets/controls",
          "model_name": "DescriptionStyleModel",
          "model_module_version": "1.5.0",
          "state": {
            "_model_module": "@jupyter-widgets/controls",
            "_model_module_version": "1.5.0",
            "_model_name": "DescriptionStyleModel",
            "_view_count": null,
            "_view_module": "@jupyter-widgets/base",
            "_view_module_version": "1.2.0",
            "_view_name": "StyleView",
            "description_width": ""
          }
        },
        "d26f003656d640839e9040ab79dee46c": {
          "model_module": "@jupyter-widgets/base",
          "model_name": "LayoutModel",
          "model_module_version": "1.2.0",
          "state": {
            "_model_module": "@jupyter-widgets/base",
            "_model_module_version": "1.2.0",
            "_model_name": "LayoutModel",
            "_view_count": null,
            "_view_module": "@jupyter-widgets/base",
            "_view_module_version": "1.2.0",
            "_view_name": "LayoutView",
            "align_content": null,
            "align_items": null,
            "align_self": null,
            "border": null,
            "bottom": null,
            "display": null,
            "flex": null,
            "flex_flow": null,
            "grid_area": null,
            "grid_auto_columns": null,
            "grid_auto_flow": null,
            "grid_auto_rows": null,
            "grid_column": null,
            "grid_gap": null,
            "grid_row": null,
            "grid_template_areas": null,
            "grid_template_columns": null,
            "grid_template_rows": null,
            "height": null,
            "justify_content": null,
            "justify_items": null,
            "left": null,
            "margin": null,
            "max_height": null,
            "max_width": null,
            "min_height": null,
            "min_width": null,
            "object_fit": null,
            "object_position": null,
            "order": null,
            "overflow": null,
            "overflow_x": null,
            "overflow_y": null,
            "padding": null,
            "right": null,
            "top": null,
            "visibility": null,
            "width": null
          }
        },
        "27930cbd4b114c888fef29d961326ea6": {
          "model_module": "@jupyter-widgets/controls",
          "model_name": "ProgressStyleModel",
          "model_module_version": "1.5.0",
          "state": {
            "_model_module": "@jupyter-widgets/controls",
            "_model_module_version": "1.5.0",
            "_model_name": "ProgressStyleModel",
            "_view_count": null,
            "_view_module": "@jupyter-widgets/base",
            "_view_module_version": "1.2.0",
            "_view_name": "StyleView",
            "bar_color": null,
            "description_width": ""
          }
        },
        "a7507b95b5624e6eb3e5be074046a1c4": {
          "model_module": "@jupyter-widgets/base",
          "model_name": "LayoutModel",
          "model_module_version": "1.2.0",
          "state": {
            "_model_module": "@jupyter-widgets/base",
            "_model_module_version": "1.2.0",
            "_model_name": "LayoutModel",
            "_view_count": null,
            "_view_module": "@jupyter-widgets/base",
            "_view_module_version": "1.2.0",
            "_view_name": "LayoutView",
            "align_content": null,
            "align_items": null,
            "align_self": null,
            "border": null,
            "bottom": null,
            "display": null,
            "flex": null,
            "flex_flow": null,
            "grid_area": null,
            "grid_auto_columns": null,
            "grid_auto_flow": null,
            "grid_auto_rows": null,
            "grid_column": null,
            "grid_gap": null,
            "grid_row": null,
            "grid_template_areas": null,
            "grid_template_columns": null,
            "grid_template_rows": null,
            "height": null,
            "justify_content": null,
            "justify_items": null,
            "left": null,
            "margin": null,
            "max_height": null,
            "max_width": null,
            "min_height": null,
            "min_width": null,
            "object_fit": null,
            "object_position": null,
            "order": null,
            "overflow": null,
            "overflow_x": null,
            "overflow_y": null,
            "padding": null,
            "right": null,
            "top": null,
            "visibility": null,
            "width": null
          }
        },
        "747babc72b884fb4bfab5899272721ff": {
          "model_module": "@jupyter-widgets/controls",
          "model_name": "DescriptionStyleModel",
          "model_module_version": "1.5.0",
          "state": {
            "_model_module": "@jupyter-widgets/controls",
            "_model_module_version": "1.5.0",
            "_model_name": "DescriptionStyleModel",
            "_view_count": null,
            "_view_module": "@jupyter-widgets/base",
            "_view_module_version": "1.2.0",
            "_view_name": "StyleView",
            "description_width": ""
          }
        },
        "59f25f120f384e309117ff0ed531807b": {
          "model_module": "@jupyter-widgets/controls",
          "model_name": "HBoxModel",
          "model_module_version": "1.5.0",
          "state": {
            "_dom_classes": [],
            "_model_module": "@jupyter-widgets/controls",
            "_model_module_version": "1.5.0",
            "_model_name": "HBoxModel",
            "_view_count": null,
            "_view_module": "@jupyter-widgets/controls",
            "_view_module_version": "1.5.0",
            "_view_name": "HBoxView",
            "box_style": "",
            "children": [
              "IPY_MODEL_5cbcc6d3a297443287585dfb6f140543",
              "IPY_MODEL_7c009505fec644f4b0707e0ff3246bc1",
              "IPY_MODEL_6964b3dd47aa419090adbc8ac31a5c47"
            ],
            "layout": "IPY_MODEL_206ce27cd7f542ca8e059775c20a178e"
          }
        },
        "5cbcc6d3a297443287585dfb6f140543": {
          "model_module": "@jupyter-widgets/controls",
          "model_name": "HTMLModel",
          "model_module_version": "1.5.0",
          "state": {
            "_dom_classes": [],
            "_model_module": "@jupyter-widgets/controls",
            "_model_module_version": "1.5.0",
            "_model_name": "HTMLModel",
            "_view_count": null,
            "_view_module": "@jupyter-widgets/controls",
            "_view_module_version": "1.5.0",
            "_view_name": "HTMLView",
            "description": "",
            "description_tooltip": null,
            "layout": "IPY_MODEL_4a1830f7f1a04e078d115afa690b83fc",
            "placeholder": "​",
            "style": "IPY_MODEL_514c57d6f1974d068b7436fbc27e4746",
            "value": "spiece.model: 100%"
          }
        },
        "7c009505fec644f4b0707e0ff3246bc1": {
          "model_module": "@jupyter-widgets/controls",
          "model_name": "FloatProgressModel",
          "model_module_version": "1.5.0",
          "state": {
            "_dom_classes": [],
            "_model_module": "@jupyter-widgets/controls",
            "_model_module_version": "1.5.0",
            "_model_name": "FloatProgressModel",
            "_view_count": null,
            "_view_module": "@jupyter-widgets/controls",
            "_view_module_version": "1.5.0",
            "_view_name": "ProgressView",
            "bar_style": "success",
            "description": "",
            "description_tooltip": null,
            "layout": "IPY_MODEL_d9e0e63aa8a74a05845c916882213f79",
            "max": 791656,
            "min": 0,
            "orientation": "horizontal",
            "style": "IPY_MODEL_6611464be5eb4412b4e2b7dc50784546",
            "value": 791656
          }
        },
        "6964b3dd47aa419090adbc8ac31a5c47": {
          "model_module": "@jupyter-widgets/controls",
          "model_name": "HTMLModel",
          "model_module_version": "1.5.0",
          "state": {
            "_dom_classes": [],
            "_model_module": "@jupyter-widgets/controls",
            "_model_module_version": "1.5.0",
            "_model_name": "HTMLModel",
            "_view_count": null,
            "_view_module": "@jupyter-widgets/controls",
            "_view_module_version": "1.5.0",
            "_view_name": "HTMLView",
            "description": "",
            "description_tooltip": null,
            "layout": "IPY_MODEL_769d4a11149b4f96bb2b831d30f37fee",
            "placeholder": "​",
            "style": "IPY_MODEL_a986955aa9b449de956a34189cc856db",
            "value": " 792k/792k [00:00&lt;00:00, 8.00MB/s]"
          }
        },
        "206ce27cd7f542ca8e059775c20a178e": {
          "model_module": "@jupyter-widgets/base",
          "model_name": "LayoutModel",
          "model_module_version": "1.2.0",
          "state": {
            "_model_module": "@jupyter-widgets/base",
            "_model_module_version": "1.2.0",
            "_model_name": "LayoutModel",
            "_view_count": null,
            "_view_module": "@jupyter-widgets/base",
            "_view_module_version": "1.2.0",
            "_view_name": "LayoutView",
            "align_content": null,
            "align_items": null,
            "align_self": null,
            "border": null,
            "bottom": null,
            "display": null,
            "flex": null,
            "flex_flow": null,
            "grid_area": null,
            "grid_auto_columns": null,
            "grid_auto_flow": null,
            "grid_auto_rows": null,
            "grid_column": null,
            "grid_gap": null,
            "grid_row": null,
            "grid_template_areas": null,
            "grid_template_columns": null,
            "grid_template_rows": null,
            "height": null,
            "justify_content": null,
            "justify_items": null,
            "left": null,
            "margin": null,
            "max_height": null,
            "max_width": null,
            "min_height": null,
            "min_width": null,
            "object_fit": null,
            "object_position": null,
            "order": null,
            "overflow": null,
            "overflow_x": null,
            "overflow_y": null,
            "padding": null,
            "right": null,
            "top": null,
            "visibility": null,
            "width": null
          }
        },
        "4a1830f7f1a04e078d115afa690b83fc": {
          "model_module": "@jupyter-widgets/base",
          "model_name": "LayoutModel",
          "model_module_version": "1.2.0",
          "state": {
            "_model_module": "@jupyter-widgets/base",
            "_model_module_version": "1.2.0",
            "_model_name": "LayoutModel",
            "_view_count": null,
            "_view_module": "@jupyter-widgets/base",
            "_view_module_version": "1.2.0",
            "_view_name": "LayoutView",
            "align_content": null,
            "align_items": null,
            "align_self": null,
            "border": null,
            "bottom": null,
            "display": null,
            "flex": null,
            "flex_flow": null,
            "grid_area": null,
            "grid_auto_columns": null,
            "grid_auto_flow": null,
            "grid_auto_rows": null,
            "grid_column": null,
            "grid_gap": null,
            "grid_row": null,
            "grid_template_areas": null,
            "grid_template_columns": null,
            "grid_template_rows": null,
            "height": null,
            "justify_content": null,
            "justify_items": null,
            "left": null,
            "margin": null,
            "max_height": null,
            "max_width": null,
            "min_height": null,
            "min_width": null,
            "object_fit": null,
            "object_position": null,
            "order": null,
            "overflow": null,
            "overflow_x": null,
            "overflow_y": null,
            "padding": null,
            "right": null,
            "top": null,
            "visibility": null,
            "width": null
          }
        },
        "514c57d6f1974d068b7436fbc27e4746": {
          "model_module": "@jupyter-widgets/controls",
          "model_name": "DescriptionStyleModel",
          "model_module_version": "1.5.0",
          "state": {
            "_model_module": "@jupyter-widgets/controls",
            "_model_module_version": "1.5.0",
            "_model_name": "DescriptionStyleModel",
            "_view_count": null,
            "_view_module": "@jupyter-widgets/base",
            "_view_module_version": "1.2.0",
            "_view_name": "StyleView",
            "description_width": ""
          }
        },
        "d9e0e63aa8a74a05845c916882213f79": {
          "model_module": "@jupyter-widgets/base",
          "model_name": "LayoutModel",
          "model_module_version": "1.2.0",
          "state": {
            "_model_module": "@jupyter-widgets/base",
            "_model_module_version": "1.2.0",
            "_model_name": "LayoutModel",
            "_view_count": null,
            "_view_module": "@jupyter-widgets/base",
            "_view_module_version": "1.2.0",
            "_view_name": "LayoutView",
            "align_content": null,
            "align_items": null,
            "align_self": null,
            "border": null,
            "bottom": null,
            "display": null,
            "flex": null,
            "flex_flow": null,
            "grid_area": null,
            "grid_auto_columns": null,
            "grid_auto_flow": null,
            "grid_auto_rows": null,
            "grid_column": null,
            "grid_gap": null,
            "grid_row": null,
            "grid_template_areas": null,
            "grid_template_columns": null,
            "grid_template_rows": null,
            "height": null,
            "justify_content": null,
            "justify_items": null,
            "left": null,
            "margin": null,
            "max_height": null,
            "max_width": null,
            "min_height": null,
            "min_width": null,
            "object_fit": null,
            "object_position": null,
            "order": null,
            "overflow": null,
            "overflow_x": null,
            "overflow_y": null,
            "padding": null,
            "right": null,
            "top": null,
            "visibility": null,
            "width": null
          }
        },
        "6611464be5eb4412b4e2b7dc50784546": {
          "model_module": "@jupyter-widgets/controls",
          "model_name": "ProgressStyleModel",
          "model_module_version": "1.5.0",
          "state": {
            "_model_module": "@jupyter-widgets/controls",
            "_model_module_version": "1.5.0",
            "_model_name": "ProgressStyleModel",
            "_view_count": null,
            "_view_module": "@jupyter-widgets/base",
            "_view_module_version": "1.2.0",
            "_view_name": "StyleView",
            "bar_color": null,
            "description_width": ""
          }
        },
        "769d4a11149b4f96bb2b831d30f37fee": {
          "model_module": "@jupyter-widgets/base",
          "model_name": "LayoutModel",
          "model_module_version": "1.2.0",
          "state": {
            "_model_module": "@jupyter-widgets/base",
            "_model_module_version": "1.2.0",
            "_model_name": "LayoutModel",
            "_view_count": null,
            "_view_module": "@jupyter-widgets/base",
            "_view_module_version": "1.2.0",
            "_view_name": "LayoutView",
            "align_content": null,
            "align_items": null,
            "align_self": null,
            "border": null,
            "bottom": null,
            "display": null,
            "flex": null,
            "flex_flow": null,
            "grid_area": null,
            "grid_auto_columns": null,
            "grid_auto_flow": null,
            "grid_auto_rows": null,
            "grid_column": null,
            "grid_gap": null,
            "grid_row": null,
            "grid_template_areas": null,
            "grid_template_columns": null,
            "grid_template_rows": null,
            "height": null,
            "justify_content": null,
            "justify_items": null,
            "left": null,
            "margin": null,
            "max_height": null,
            "max_width": null,
            "min_height": null,
            "min_width": null,
            "object_fit": null,
            "object_position": null,
            "order": null,
            "overflow": null,
            "overflow_x": null,
            "overflow_y": null,
            "padding": null,
            "right": null,
            "top": null,
            "visibility": null,
            "width": null
          }
        },
        "a986955aa9b449de956a34189cc856db": {
          "model_module": "@jupyter-widgets/controls",
          "model_name": "DescriptionStyleModel",
          "model_module_version": "1.5.0",
          "state": {
            "_model_module": "@jupyter-widgets/controls",
            "_model_module_version": "1.5.0",
            "_model_name": "DescriptionStyleModel",
            "_view_count": null,
            "_view_module": "@jupyter-widgets/base",
            "_view_module_version": "1.2.0",
            "_view_name": "StyleView",
            "description_width": ""
          }
        },
        "2c91cc47914d4ef19fa9e5b9235ce4a3": {
          "model_module": "@jupyter-widgets/controls",
          "model_name": "HBoxModel",
          "model_module_version": "1.5.0",
          "state": {
            "_dom_classes": [],
            "_model_module": "@jupyter-widgets/controls",
            "_model_module_version": "1.5.0",
            "_model_name": "HBoxModel",
            "_view_count": null,
            "_view_module": "@jupyter-widgets/controls",
            "_view_module_version": "1.5.0",
            "_view_name": "HBoxView",
            "box_style": "",
            "children": [
              "IPY_MODEL_7f44b44ee55741ef851c7dc20bd0cde4",
              "IPY_MODEL_2683c69c61354be3b679ee6ce873644e",
              "IPY_MODEL_1a1252c8840e4b0b8e68a5ac41c6fba1"
            ],
            "layout": "IPY_MODEL_d2851c248e374a558f445f6c821b4c76"
          }
        },
        "7f44b44ee55741ef851c7dc20bd0cde4": {
          "model_module": "@jupyter-widgets/controls",
          "model_name": "HTMLModel",
          "model_module_version": "1.5.0",
          "state": {
            "_dom_classes": [],
            "_model_module": "@jupyter-widgets/controls",
            "_model_module_version": "1.5.0",
            "_model_name": "HTMLModel",
            "_view_count": null,
            "_view_module": "@jupyter-widgets/controls",
            "_view_module_version": "1.5.0",
            "_view_name": "HTMLView",
            "description": "",
            "description_tooltip": null,
            "layout": "IPY_MODEL_36d099ff4a9348cdafc01a49445acfbd",
            "placeholder": "​",
            "style": "IPY_MODEL_f256ece2516d487e830a0f1e255bd730",
            "value": "tokenizer.json: 100%"
          }
        },
        "2683c69c61354be3b679ee6ce873644e": {
          "model_module": "@jupyter-widgets/controls",
          "model_name": "FloatProgressModel",
          "model_module_version": "1.5.0",
          "state": {
            "_dom_classes": [],
            "_model_module": "@jupyter-widgets/controls",
            "_model_module_version": "1.5.0",
            "_model_name": "FloatProgressModel",
            "_view_count": null,
            "_view_module": "@jupyter-widgets/controls",
            "_view_module_version": "1.5.0",
            "_view_name": "ProgressView",
            "bar_style": "success",
            "description": "",
            "description_tooltip": null,
            "layout": "IPY_MODEL_3aed23295fc34687aa14348503186c50",
            "max": 1389353,
            "min": 0,
            "orientation": "horizontal",
            "style": "IPY_MODEL_68c1a40628f342dba3b42235123de5ea",
            "value": 1389353
          }
        },
        "1a1252c8840e4b0b8e68a5ac41c6fba1": {
          "model_module": "@jupyter-widgets/controls",
          "model_name": "HTMLModel",
          "model_module_version": "1.5.0",
          "state": {
            "_dom_classes": [],
            "_model_module": "@jupyter-widgets/controls",
            "_model_module_version": "1.5.0",
            "_model_name": "HTMLModel",
            "_view_count": null,
            "_view_module": "@jupyter-widgets/controls",
            "_view_module_version": "1.5.0",
            "_view_name": "HTMLView",
            "description": "",
            "description_tooltip": null,
            "layout": "IPY_MODEL_871ad6a7e1ff44c5b4eb58997531b18c",
            "placeholder": "​",
            "style": "IPY_MODEL_bcb96a55e1c346c99ed7b6c87ce4473d",
            "value": " 1.39M/1.39M [00:00&lt;00:00, 9.22MB/s]"
          }
        },
        "d2851c248e374a558f445f6c821b4c76": {
          "model_module": "@jupyter-widgets/base",
          "model_name": "LayoutModel",
          "model_module_version": "1.2.0",
          "state": {
            "_model_module": "@jupyter-widgets/base",
            "_model_module_version": "1.2.0",
            "_model_name": "LayoutModel",
            "_view_count": null,
            "_view_module": "@jupyter-widgets/base",
            "_view_module_version": "1.2.0",
            "_view_name": "LayoutView",
            "align_content": null,
            "align_items": null,
            "align_self": null,
            "border": null,
            "bottom": null,
            "display": null,
            "flex": null,
            "flex_flow": null,
            "grid_area": null,
            "grid_auto_columns": null,
            "grid_auto_flow": null,
            "grid_auto_rows": null,
            "grid_column": null,
            "grid_gap": null,
            "grid_row": null,
            "grid_template_areas": null,
            "grid_template_columns": null,
            "grid_template_rows": null,
            "height": null,
            "justify_content": null,
            "justify_items": null,
            "left": null,
            "margin": null,
            "max_height": null,
            "max_width": null,
            "min_height": null,
            "min_width": null,
            "object_fit": null,
            "object_position": null,
            "order": null,
            "overflow": null,
            "overflow_x": null,
            "overflow_y": null,
            "padding": null,
            "right": null,
            "top": null,
            "visibility": null,
            "width": null
          }
        },
        "36d099ff4a9348cdafc01a49445acfbd": {
          "model_module": "@jupyter-widgets/base",
          "model_name": "LayoutModel",
          "model_module_version": "1.2.0",
          "state": {
            "_model_module": "@jupyter-widgets/base",
            "_model_module_version": "1.2.0",
            "_model_name": "LayoutModel",
            "_view_count": null,
            "_view_module": "@jupyter-widgets/base",
            "_view_module_version": "1.2.0",
            "_view_name": "LayoutView",
            "align_content": null,
            "align_items": null,
            "align_self": null,
            "border": null,
            "bottom": null,
            "display": null,
            "flex": null,
            "flex_flow": null,
            "grid_area": null,
            "grid_auto_columns": null,
            "grid_auto_flow": null,
            "grid_auto_rows": null,
            "grid_column": null,
            "grid_gap": null,
            "grid_row": null,
            "grid_template_areas": null,
            "grid_template_columns": null,
            "grid_template_rows": null,
            "height": null,
            "justify_content": null,
            "justify_items": null,
            "left": null,
            "margin": null,
            "max_height": null,
            "max_width": null,
            "min_height": null,
            "min_width": null,
            "object_fit": null,
            "object_position": null,
            "order": null,
            "overflow": null,
            "overflow_x": null,
            "overflow_y": null,
            "padding": null,
            "right": null,
            "top": null,
            "visibility": null,
            "width": null
          }
        },
        "f256ece2516d487e830a0f1e255bd730": {
          "model_module": "@jupyter-widgets/controls",
          "model_name": "DescriptionStyleModel",
          "model_module_version": "1.5.0",
          "state": {
            "_model_module": "@jupyter-widgets/controls",
            "_model_module_version": "1.5.0",
            "_model_name": "DescriptionStyleModel",
            "_view_count": null,
            "_view_module": "@jupyter-widgets/base",
            "_view_module_version": "1.2.0",
            "_view_name": "StyleView",
            "description_width": ""
          }
        },
        "3aed23295fc34687aa14348503186c50": {
          "model_module": "@jupyter-widgets/base",
          "model_name": "LayoutModel",
          "model_module_version": "1.2.0",
          "state": {
            "_model_module": "@jupyter-widgets/base",
            "_model_module_version": "1.2.0",
            "_model_name": "LayoutModel",
            "_view_count": null,
            "_view_module": "@jupyter-widgets/base",
            "_view_module_version": "1.2.0",
            "_view_name": "LayoutView",
            "align_content": null,
            "align_items": null,
            "align_self": null,
            "border": null,
            "bottom": null,
            "display": null,
            "flex": null,
            "flex_flow": null,
            "grid_area": null,
            "grid_auto_columns": null,
            "grid_auto_flow": null,
            "grid_auto_rows": null,
            "grid_column": null,
            "grid_gap": null,
            "grid_row": null,
            "grid_template_areas": null,
            "grid_template_columns": null,
            "grid_template_rows": null,
            "height": null,
            "justify_content": null,
            "justify_items": null,
            "left": null,
            "margin": null,
            "max_height": null,
            "max_width": null,
            "min_height": null,
            "min_width": null,
            "object_fit": null,
            "object_position": null,
            "order": null,
            "overflow": null,
            "overflow_x": null,
            "overflow_y": null,
            "padding": null,
            "right": null,
            "top": null,
            "visibility": null,
            "width": null
          }
        },
        "68c1a40628f342dba3b42235123de5ea": {
          "model_module": "@jupyter-widgets/controls",
          "model_name": "ProgressStyleModel",
          "model_module_version": "1.5.0",
          "state": {
            "_model_module": "@jupyter-widgets/controls",
            "_model_module_version": "1.5.0",
            "_model_name": "ProgressStyleModel",
            "_view_count": null,
            "_view_module": "@jupyter-widgets/base",
            "_view_module_version": "1.2.0",
            "_view_name": "StyleView",
            "bar_color": null,
            "description_width": ""
          }
        },
        "871ad6a7e1ff44c5b4eb58997531b18c": {
          "model_module": "@jupyter-widgets/base",
          "model_name": "LayoutModel",
          "model_module_version": "1.2.0",
          "state": {
            "_model_module": "@jupyter-widgets/base",
            "_model_module_version": "1.2.0",
            "_model_name": "LayoutModel",
            "_view_count": null,
            "_view_module": "@jupyter-widgets/base",
            "_view_module_version": "1.2.0",
            "_view_name": "LayoutView",
            "align_content": null,
            "align_items": null,
            "align_self": null,
            "border": null,
            "bottom": null,
            "display": null,
            "flex": null,
            "flex_flow": null,
            "grid_area": null,
            "grid_auto_columns": null,
            "grid_auto_flow": null,
            "grid_auto_rows": null,
            "grid_column": null,
            "grid_gap": null,
            "grid_row": null,
            "grid_template_areas": null,
            "grid_template_columns": null,
            "grid_template_rows": null,
            "height": null,
            "justify_content": null,
            "justify_items": null,
            "left": null,
            "margin": null,
            "max_height": null,
            "max_width": null,
            "min_height": null,
            "min_width": null,
            "object_fit": null,
            "object_position": null,
            "order": null,
            "overflow": null,
            "overflow_x": null,
            "overflow_y": null,
            "padding": null,
            "right": null,
            "top": null,
            "visibility": null,
            "width": null
          }
        },
        "bcb96a55e1c346c99ed7b6c87ce4473d": {
          "model_module": "@jupyter-widgets/controls",
          "model_name": "DescriptionStyleModel",
          "model_module_version": "1.5.0",
          "state": {
            "_model_module": "@jupyter-widgets/controls",
            "_model_module_version": "1.5.0",
            "_model_name": "DescriptionStyleModel",
            "_view_count": null,
            "_view_module": "@jupyter-widgets/base",
            "_view_module_version": "1.2.0",
            "_view_name": "StyleView",
            "description_width": ""
          }
        }
      }
    }
  },
  "cells": [
    {
      "cell_type": "markdown",
      "metadata": {
        "id": "view-in-github",
        "colab_type": "text"
      },
      "source": [
        "<a href=\"https://colab.research.google.com/github/King-Rian/Project-3/blob/main/Project_3.ipynb\" target=\"_parent\"><img src=\"https://colab.research.google.com/assets/colab-badge.svg\" alt=\"Open In Colab\"/></a>"
      ]
    },
    {
      "cell_type": "code",
      "execution_count": 2,
      "metadata": {
        "colab": {
          "base_uri": "https://localhost:8080/",
          "height": 73
        },
        "id": "7NYz_bUmJ0Zj",
        "outputId": "68fafaab-21d7-46c8-8f89-5e54c152b6db"
      },
      "outputs": [
        {
          "output_type": "display_data",
          "data": {
            "text/plain": [
              "<IPython.core.display.HTML object>"
            ],
            "text/html": [
              "\n",
              "     <input type=\"file\" id=\"files-d90cb293-7ce2-432e-a937-0483667d747b\" name=\"files[]\" multiple disabled\n",
              "        style=\"border:none\" />\n",
              "     <output id=\"result-d90cb293-7ce2-432e-a937-0483667d747b\">\n",
              "      Upload widget is only available when the cell has been executed in the\n",
              "      current browser session. Please rerun this cell to enable.\n",
              "      </output>\n",
              "      <script>// Copyright 2017 Google LLC\n",
              "//\n",
              "// Licensed under the Apache License, Version 2.0 (the \"License\");\n",
              "// you may not use this file except in compliance with the License.\n",
              "// You may obtain a copy of the License at\n",
              "//\n",
              "//      http://www.apache.org/licenses/LICENSE-2.0\n",
              "//\n",
              "// Unless required by applicable law or agreed to in writing, software\n",
              "// distributed under the License is distributed on an \"AS IS\" BASIS,\n",
              "// WITHOUT WARRANTIES OR CONDITIONS OF ANY KIND, either express or implied.\n",
              "// See the License for the specific language governing permissions and\n",
              "// limitations under the License.\n",
              "\n",
              "/**\n",
              " * @fileoverview Helpers for google.colab Python module.\n",
              " */\n",
              "(function(scope) {\n",
              "function span(text, styleAttributes = {}) {\n",
              "  const element = document.createElement('span');\n",
              "  element.textContent = text;\n",
              "  for (const key of Object.keys(styleAttributes)) {\n",
              "    element.style[key] = styleAttributes[key];\n",
              "  }\n",
              "  return element;\n",
              "}\n",
              "\n",
              "// Max number of bytes which will be uploaded at a time.\n",
              "const MAX_PAYLOAD_SIZE = 100 * 1024;\n",
              "\n",
              "function _uploadFiles(inputId, outputId) {\n",
              "  const steps = uploadFilesStep(inputId, outputId);\n",
              "  const outputElement = document.getElementById(outputId);\n",
              "  // Cache steps on the outputElement to make it available for the next call\n",
              "  // to uploadFilesContinue from Python.\n",
              "  outputElement.steps = steps;\n",
              "\n",
              "  return _uploadFilesContinue(outputId);\n",
              "}\n",
              "\n",
              "// This is roughly an async generator (not supported in the browser yet),\n",
              "// where there are multiple asynchronous steps and the Python side is going\n",
              "// to poll for completion of each step.\n",
              "// This uses a Promise to block the python side on completion of each step,\n",
              "// then passes the result of the previous step as the input to the next step.\n",
              "function _uploadFilesContinue(outputId) {\n",
              "  const outputElement = document.getElementById(outputId);\n",
              "  const steps = outputElement.steps;\n",
              "\n",
              "  const next = steps.next(outputElement.lastPromiseValue);\n",
              "  return Promise.resolve(next.value.promise).then((value) => {\n",
              "    // Cache the last promise value to make it available to the next\n",
              "    // step of the generator.\n",
              "    outputElement.lastPromiseValue = value;\n",
              "    return next.value.response;\n",
              "  });\n",
              "}\n",
              "\n",
              "/**\n",
              " * Generator function which is called between each async step of the upload\n",
              " * process.\n",
              " * @param {string} inputId Element ID of the input file picker element.\n",
              " * @param {string} outputId Element ID of the output display.\n",
              " * @return {!Iterable<!Object>} Iterable of next steps.\n",
              " */\n",
              "function* uploadFilesStep(inputId, outputId) {\n",
              "  const inputElement = document.getElementById(inputId);\n",
              "  inputElement.disabled = false;\n",
              "\n",
              "  const outputElement = document.getElementById(outputId);\n",
              "  outputElement.innerHTML = '';\n",
              "\n",
              "  const pickedPromise = new Promise((resolve) => {\n",
              "    inputElement.addEventListener('change', (e) => {\n",
              "      resolve(e.target.files);\n",
              "    });\n",
              "  });\n",
              "\n",
              "  const cancel = document.createElement('button');\n",
              "  inputElement.parentElement.appendChild(cancel);\n",
              "  cancel.textContent = 'Cancel upload';\n",
              "  const cancelPromise = new Promise((resolve) => {\n",
              "    cancel.onclick = () => {\n",
              "      resolve(null);\n",
              "    };\n",
              "  });\n",
              "\n",
              "  // Wait for the user to pick the files.\n",
              "  const files = yield {\n",
              "    promise: Promise.race([pickedPromise, cancelPromise]),\n",
              "    response: {\n",
              "      action: 'starting',\n",
              "    }\n",
              "  };\n",
              "\n",
              "  cancel.remove();\n",
              "\n",
              "  // Disable the input element since further picks are not allowed.\n",
              "  inputElement.disabled = true;\n",
              "\n",
              "  if (!files) {\n",
              "    return {\n",
              "      response: {\n",
              "        action: 'complete',\n",
              "      }\n",
              "    };\n",
              "  }\n",
              "\n",
              "  for (const file of files) {\n",
              "    const li = document.createElement('li');\n",
              "    li.append(span(file.name, {fontWeight: 'bold'}));\n",
              "    li.append(span(\n",
              "        `(${file.type || 'n/a'}) - ${file.size} bytes, ` +\n",
              "        `last modified: ${\n",
              "            file.lastModifiedDate ? file.lastModifiedDate.toLocaleDateString() :\n",
              "                                    'n/a'} - `));\n",
              "    const percent = span('0% done');\n",
              "    li.appendChild(percent);\n",
              "\n",
              "    outputElement.appendChild(li);\n",
              "\n",
              "    const fileDataPromise = new Promise((resolve) => {\n",
              "      const reader = new FileReader();\n",
              "      reader.onload = (e) => {\n",
              "        resolve(e.target.result);\n",
              "      };\n",
              "      reader.readAsArrayBuffer(file);\n",
              "    });\n",
              "    // Wait for the data to be ready.\n",
              "    let fileData = yield {\n",
              "      promise: fileDataPromise,\n",
              "      response: {\n",
              "        action: 'continue',\n",
              "      }\n",
              "    };\n",
              "\n",
              "    // Use a chunked sending to avoid message size limits. See b/62115660.\n",
              "    let position = 0;\n",
              "    do {\n",
              "      const length = Math.min(fileData.byteLength - position, MAX_PAYLOAD_SIZE);\n",
              "      const chunk = new Uint8Array(fileData, position, length);\n",
              "      position += length;\n",
              "\n",
              "      const base64 = btoa(String.fromCharCode.apply(null, chunk));\n",
              "      yield {\n",
              "        response: {\n",
              "          action: 'append',\n",
              "          file: file.name,\n",
              "          data: base64,\n",
              "        },\n",
              "      };\n",
              "\n",
              "      let percentDone = fileData.byteLength === 0 ?\n",
              "          100 :\n",
              "          Math.round((position / fileData.byteLength) * 100);\n",
              "      percent.textContent = `${percentDone}% done`;\n",
              "\n",
              "    } while (position < fileData.byteLength);\n",
              "  }\n",
              "\n",
              "  // All done.\n",
              "  yield {\n",
              "    response: {\n",
              "      action: 'complete',\n",
              "    }\n",
              "  };\n",
              "}\n",
              "\n",
              "scope.google = scope.google || {};\n",
              "scope.google.colab = scope.google.colab || {};\n",
              "scope.google.colab._files = {\n",
              "  _uploadFiles,\n",
              "  _uploadFilesContinue,\n",
              "};\n",
              "})(self);\n",
              "</script> "
            ]
          },
          "metadata": {}
        },
        {
          "output_type": "stream",
          "name": "stdout",
          "text": [
            "Saving emojis.json.zip to emojis.json.zip\n"
          ]
        }
      ],
      "source": [
        "from google.colab import files\n",
        "uploaded = files.upload()\n"
      ]
    },
    {
      "cell_type": "code",
      "source": [
        "from google.colab import files\n",
        "import zipfile\n",
        "import json\n",
        "import pandas as pd\n",
        "\n",
        "# Step 1: Upload the file\n",
        "uploaded = files.upload()\n",
        "\n",
        "# Step 2: Extract the ZIP file\n",
        "with zipfile.ZipFile('emojis.json.zip', 'r') as zip_ref:\n",
        "    zip_ref.extractall()\n",
        "\n",
        "# Step 3: Load the extracted JSON file\n",
        "emoji_file = 'emojis.json'\n",
        "\n",
        "# Using pandas\n",
        "emoji_df = pd.read_json(emoji_file)\n",
        "print(\"Dataset loaded successfully. Sample data:\")\n",
        "print(emoji_df.head())\n"
      ],
      "metadata": {
        "colab": {
          "base_uri": "https://localhost:8080/",
          "height": 802
        },
        "id": "M4cz5C-LLx1S",
        "outputId": "ac9035db-9484-4304-c90b-dc354acd9af2"
      },
      "execution_count": 3,
      "outputs": [
        {
          "output_type": "display_data",
          "data": {
            "text/plain": [
              "<IPython.core.display.HTML object>"
            ],
            "text/html": [
              "\n",
              "     <input type=\"file\" id=\"files-50e3955c-0666-485d-bd9d-29b964a83ed0\" name=\"files[]\" multiple disabled\n",
              "        style=\"border:none\" />\n",
              "     <output id=\"result-50e3955c-0666-485d-bd9d-29b964a83ed0\">\n",
              "      Upload widget is only available when the cell has been executed in the\n",
              "      current browser session. Please rerun this cell to enable.\n",
              "      </output>\n",
              "      <script>// Copyright 2017 Google LLC\n",
              "//\n",
              "// Licensed under the Apache License, Version 2.0 (the \"License\");\n",
              "// you may not use this file except in compliance with the License.\n",
              "// You may obtain a copy of the License at\n",
              "//\n",
              "//      http://www.apache.org/licenses/LICENSE-2.0\n",
              "//\n",
              "// Unless required by applicable law or agreed to in writing, software\n",
              "// distributed under the License is distributed on an \"AS IS\" BASIS,\n",
              "// WITHOUT WARRANTIES OR CONDITIONS OF ANY KIND, either express or implied.\n",
              "// See the License for the specific language governing permissions and\n",
              "// limitations under the License.\n",
              "\n",
              "/**\n",
              " * @fileoverview Helpers for google.colab Python module.\n",
              " */\n",
              "(function(scope) {\n",
              "function span(text, styleAttributes = {}) {\n",
              "  const element = document.createElement('span');\n",
              "  element.textContent = text;\n",
              "  for (const key of Object.keys(styleAttributes)) {\n",
              "    element.style[key] = styleAttributes[key];\n",
              "  }\n",
              "  return element;\n",
              "}\n",
              "\n",
              "// Max number of bytes which will be uploaded at a time.\n",
              "const MAX_PAYLOAD_SIZE = 100 * 1024;\n",
              "\n",
              "function _uploadFiles(inputId, outputId) {\n",
              "  const steps = uploadFilesStep(inputId, outputId);\n",
              "  const outputElement = document.getElementById(outputId);\n",
              "  // Cache steps on the outputElement to make it available for the next call\n",
              "  // to uploadFilesContinue from Python.\n",
              "  outputElement.steps = steps;\n",
              "\n",
              "  return _uploadFilesContinue(outputId);\n",
              "}\n",
              "\n",
              "// This is roughly an async generator (not supported in the browser yet),\n",
              "// where there are multiple asynchronous steps and the Python side is going\n",
              "// to poll for completion of each step.\n",
              "// This uses a Promise to block the python side on completion of each step,\n",
              "// then passes the result of the previous step as the input to the next step.\n",
              "function _uploadFilesContinue(outputId) {\n",
              "  const outputElement = document.getElementById(outputId);\n",
              "  const steps = outputElement.steps;\n",
              "\n",
              "  const next = steps.next(outputElement.lastPromiseValue);\n",
              "  return Promise.resolve(next.value.promise).then((value) => {\n",
              "    // Cache the last promise value to make it available to the next\n",
              "    // step of the generator.\n",
              "    outputElement.lastPromiseValue = value;\n",
              "    return next.value.response;\n",
              "  });\n",
              "}\n",
              "\n",
              "/**\n",
              " * Generator function which is called between each async step of the upload\n",
              " * process.\n",
              " * @param {string} inputId Element ID of the input file picker element.\n",
              " * @param {string} outputId Element ID of the output display.\n",
              " * @return {!Iterable<!Object>} Iterable of next steps.\n",
              " */\n",
              "function* uploadFilesStep(inputId, outputId) {\n",
              "  const inputElement = document.getElementById(inputId);\n",
              "  inputElement.disabled = false;\n",
              "\n",
              "  const outputElement = document.getElementById(outputId);\n",
              "  outputElement.innerHTML = '';\n",
              "\n",
              "  const pickedPromise = new Promise((resolve) => {\n",
              "    inputElement.addEventListener('change', (e) => {\n",
              "      resolve(e.target.files);\n",
              "    });\n",
              "  });\n",
              "\n",
              "  const cancel = document.createElement('button');\n",
              "  inputElement.parentElement.appendChild(cancel);\n",
              "  cancel.textContent = 'Cancel upload';\n",
              "  const cancelPromise = new Promise((resolve) => {\n",
              "    cancel.onclick = () => {\n",
              "      resolve(null);\n",
              "    };\n",
              "  });\n",
              "\n",
              "  // Wait for the user to pick the files.\n",
              "  const files = yield {\n",
              "    promise: Promise.race([pickedPromise, cancelPromise]),\n",
              "    response: {\n",
              "      action: 'starting',\n",
              "    }\n",
              "  };\n",
              "\n",
              "  cancel.remove();\n",
              "\n",
              "  // Disable the input element since further picks are not allowed.\n",
              "  inputElement.disabled = true;\n",
              "\n",
              "  if (!files) {\n",
              "    return {\n",
              "      response: {\n",
              "        action: 'complete',\n",
              "      }\n",
              "    };\n",
              "  }\n",
              "\n",
              "  for (const file of files) {\n",
              "    const li = document.createElement('li');\n",
              "    li.append(span(file.name, {fontWeight: 'bold'}));\n",
              "    li.append(span(\n",
              "        `(${file.type || 'n/a'}) - ${file.size} bytes, ` +\n",
              "        `last modified: ${\n",
              "            file.lastModifiedDate ? file.lastModifiedDate.toLocaleDateString() :\n",
              "                                    'n/a'} - `));\n",
              "    const percent = span('0% done');\n",
              "    li.appendChild(percent);\n",
              "\n",
              "    outputElement.appendChild(li);\n",
              "\n",
              "    const fileDataPromise = new Promise((resolve) => {\n",
              "      const reader = new FileReader();\n",
              "      reader.onload = (e) => {\n",
              "        resolve(e.target.result);\n",
              "      };\n",
              "      reader.readAsArrayBuffer(file);\n",
              "    });\n",
              "    // Wait for the data to be ready.\n",
              "    let fileData = yield {\n",
              "      promise: fileDataPromise,\n",
              "      response: {\n",
              "        action: 'continue',\n",
              "      }\n",
              "    };\n",
              "\n",
              "    // Use a chunked sending to avoid message size limits. See b/62115660.\n",
              "    let position = 0;\n",
              "    do {\n",
              "      const length = Math.min(fileData.byteLength - position, MAX_PAYLOAD_SIZE);\n",
              "      const chunk = new Uint8Array(fileData, position, length);\n",
              "      position += length;\n",
              "\n",
              "      const base64 = btoa(String.fromCharCode.apply(null, chunk));\n",
              "      yield {\n",
              "        response: {\n",
              "          action: 'append',\n",
              "          file: file.name,\n",
              "          data: base64,\n",
              "        },\n",
              "      };\n",
              "\n",
              "      let percentDone = fileData.byteLength === 0 ?\n",
              "          100 :\n",
              "          Math.round((position / fileData.byteLength) * 100);\n",
              "      percent.textContent = `${percentDone}% done`;\n",
              "\n",
              "    } while (position < fileData.byteLength);\n",
              "  }\n",
              "\n",
              "  // All done.\n",
              "  yield {\n",
              "    response: {\n",
              "      action: 'complete',\n",
              "    }\n",
              "  };\n",
              "}\n",
              "\n",
              "scope.google = scope.google || {};\n",
              "scope.google.colab = scope.google.colab || {};\n",
              "scope.google.colab._files = {\n",
              "  _uploadFiles,\n",
              "  _uploadFilesContinue,\n",
              "};\n",
              "})(self);\n",
              "</script> "
            ]
          },
          "metadata": {}
        },
        {
          "output_type": "stream",
          "name": "stdout",
          "text": [
            "Saving emojis.json.zip to emojis.json (1).zip\n",
            "Dataset loaded successfully. Sample data:\n",
            "                                            category  \\\n",
            "0  Miscellaneous Symbols And Pictographs -> Emoji...   \n",
            "1  Miscellaneous Symbols And Pictographs -> Emoji...   \n",
            "2                                               None   \n",
            "3  Miscellaneous Symbols And Pictographs -> Emoji...   \n",
            "4                                               None   \n",
            "\n",
            "                                            keywords  \\\n",
            "0  [dark skin tone, hand, forbidden, gesture, wom...   \n",
            "1                     [dark skin tone, woman, guard]   \n",
            "2                 [racing, running, woman, marathon]   \n",
            "3  [gymnastics, medium-light skin tone, woman, ca...   \n",
            "4                                      [woman, golf]   \n",
            "\n",
            "                                          definition  \\\n",
            "0  The Woman Gesturing Not OK, Type-6 emoji is a ...   \n",
            "1  The Female Guard, Type-6 emoji is a sequence o...   \n",
            "2  The female version of the ?? Runner emoji. The...   \n",
            "3  The Woman Doing Cartwheel, Type-3 emoji is a s...   \n",
            "4  The female version of the ?? Golfer emoji. The...   \n",
            "\n",
            "                                unicode  \\\n",
            "0  U+1F645 U+1F3FF U+200D U+2640 U+FE0F   \n",
            "1  U+1F482 U+1F3FF U+200D U+2640 U+FE0F   \n",
            "2          U+1F3C3 U+200D U+2640 U+FE0F   \n",
            "3  U+1F938 U+1F3FC U+200D U+2640 U+FE0F   \n",
            "4   U+1F3CC U+FE0F U+200D U+2640 U+FE0F   \n",
            "\n",
            "                                         name shortcode  \\\n",
            "0          woman gesturing NO: dark skin tone      None   \n",
            "1                 woman guard: dark skin tone      None   \n",
            "2                               woman running      None   \n",
            "3  woman cartwheeling: medium-light skin tone      None   \n",
            "4                               woman golfing      None   \n",
            "\n",
            "                                              senses  \n",
            "0  {'adjectives': [{'bn:00104562a': ['Contrary to...  \n",
            "1  {'adjectives': [], 'verbs': [{'bn:00090041v': ...  \n",
            "2  {'adjectives': [{'bn:00109994a': ['Of advancin...  \n",
            "3  {'adjectives': [], 'verbs': [{'bn:00084605v': ...  \n",
            "4  {'adjectives': [], 'verbs': [{'bn:00088979v': ...  \n"
          ]
        }
      ]
    },
    {
      "cell_type": "markdown",
      "source": [
        "# Pre-process the data:\n",
        "- Cleaning\n",
        "- Tokenization\n",
        "- Mapping phrases to Emojis\n",
        "- Handling stopwords (relevant?)\n",
        "- Stemming?\n",
        "- Encoding\n",
        "- split, train, test"
      ],
      "metadata": {
        "id": "NJ3IV9jDrSxY"
      }
    },
    {
      "cell_type": "code",
      "source": [
        "emoji_df.isnull().sum()\n"
      ],
      "metadata": {
        "id": "tuZuML2CjYNa",
        "outputId": "72916484-9b52-4284-88f6-51c73a7e03ad",
        "colab": {
          "base_uri": "https://localhost:8080/",
          "height": 303
        }
      },
      "execution_count": 23,
      "outputs": [
        {
          "output_type": "execute_result",
          "data": {
            "text/plain": [
              "category       401\n",
              "keywords         0\n",
              "definition       0\n",
              "unicode          0\n",
              "name             0\n",
              "shortcode     1544\n",
              "senses           0\n",
              "dtype: int64"
            ],
            "text/html": [
              "<div>\n",
              "<style scoped>\n",
              "    .dataframe tbody tr th:only-of-type {\n",
              "        vertical-align: middle;\n",
              "    }\n",
              "\n",
              "    .dataframe tbody tr th {\n",
              "        vertical-align: top;\n",
              "    }\n",
              "\n",
              "    .dataframe thead th {\n",
              "        text-align: right;\n",
              "    }\n",
              "</style>\n",
              "<table border=\"1\" class=\"dataframe\">\n",
              "  <thead>\n",
              "    <tr style=\"text-align: right;\">\n",
              "      <th></th>\n",
              "      <th>0</th>\n",
              "    </tr>\n",
              "  </thead>\n",
              "  <tbody>\n",
              "    <tr>\n",
              "      <th>category</th>\n",
              "      <td>401</td>\n",
              "    </tr>\n",
              "    <tr>\n",
              "      <th>keywords</th>\n",
              "      <td>0</td>\n",
              "    </tr>\n",
              "    <tr>\n",
              "      <th>definition</th>\n",
              "      <td>0</td>\n",
              "    </tr>\n",
              "    <tr>\n",
              "      <th>unicode</th>\n",
              "      <td>0</td>\n",
              "    </tr>\n",
              "    <tr>\n",
              "      <th>name</th>\n",
              "      <td>0</td>\n",
              "    </tr>\n",
              "    <tr>\n",
              "      <th>shortcode</th>\n",
              "      <td>1544</td>\n",
              "    </tr>\n",
              "    <tr>\n",
              "      <th>senses</th>\n",
              "      <td>0</td>\n",
              "    </tr>\n",
              "  </tbody>\n",
              "</table>\n",
              "</div><br><label><b>dtype:</b> int64</label>"
            ]
          },
          "metadata": {},
          "execution_count": 23
        }
      ]
    },
    {
      "cell_type": "code",
      "source": [
        "emoji_df['shortcode'].isnull().sum()"
      ],
      "metadata": {
        "id": "WCrp3PFCj88j",
        "outputId": "fa3d1128-9f2d-4f82-f85e-6e7022867088",
        "colab": {
          "base_uri": "https://localhost:8080/"
        }
      },
      "execution_count": 25,
      "outputs": [
        {
          "output_type": "execute_result",
          "data": {
            "text/plain": [
              "1544"
            ]
          },
          "metadata": {},
          "execution_count": 25
        }
      ]
    },
    {
      "cell_type": "code",
      "source": [
        "unique_values = emoji_df['shortcode'].unique()\n",
        "print(unique_values)"
      ],
      "metadata": {
        "id": "wHVQtyD2lGSc",
        "outputId": "7168abbd-d172-4383-ebe0-118dee17d0ee",
        "colab": {
          "base_uri": "https://localhost:8080/"
        }
      },
      "execution_count": 32,
      "outputs": [
        {
          "output_type": "stream",
          "name": "stdout",
          "text": [
            "[None ':zero:' ':m:' ':accept:' ':ideograph_advantage:' ':u55b6:'\n",
            " ':u5272:' ':u7533:' ':u6708:' ':u6709:' ':u6e80:' ':u5408:' ':u7a7a:'\n",
            " ':u7981:' ':u6307:' ':u7121:' ':sa:' ':koko:' ':kr:' ':cn:'\n",
            " ':hourglass_flowing_sand:' ':alarm_clock:' ':arrow_double_down:'\n",
            " ':arrow_double_up:' ':rewind:' ':fast_forward:' ':eight:' ':de:' ':four:'\n",
            " ':vs:' ':up:' ':sos:' ':ok:' ':ng:' ':new:' ':id:' ':free:' ':cool:'\n",
            " ':cl:' ':ab:' ':parking:' ':o2:' ':b:' ':a:' ':hourglass:' ':watch:'\n",
            " ':ru:' ':black_joker:' ':seven:' ':three:' ':arrow_heading_down:'\n",
            " ':arrow_heading_up:' ':registered:' ':copyright:' ':left_luggage:'\n",
            " ':baggage_claim:' ':customs:' ':passport_control:' ':bathtub:' ':bath:'\n",
            " ':shower:' ':wc:' ':toilet:' ':baby_symbol:' ':restroom:' ':womens:'\n",
            " ':mens:' ':children_crossing:' ':no_pedestrians:' ':walking:'\n",
            " ':mountain_bicyclist:' ':bicyclist:' ':no_bicycles:' ':bike:'\n",
            " ':non-potable_water:' ':potable_water:' ':do_not_litter:'\n",
            " ':put_litter_in_its_place:' ':no_smoking:' ':smoking:' ':no_entry_sign:'\n",
            " ':door:' ':triangular_flag_on_post:' ':rotating_light:' ':construction:'\n",
            " ':vertical_traffic_light:' ':traffic_light:' ':speedboat:' ':rowboat:'\n",
            " ':ship:' ':aerial_tramway:' ':mountain_cableway:' ':mahjong:'\n",
            " ':suspension_railway:' ':mountain_railway:' ':monorail:' ':tractor:'\n",
            " ':articulated_lorry:' ':truck:' ':blue_car:' ':oncoming_automobile:'\n",
            " ':car:,:red_car:' ':oncoming_taxi:' ':taxi:' ':oncoming_police_car:'\n",
            " ':police_car:' ':fire_engine:' ':ambulance:' ':minibus:' ':busstop:'\n",
            " ':trolleybus:' ':oncoming_bus:' ':bus:' ':train:' ':tram:' ':station:'\n",
            " ':light_rail:' ':metro:' ':train2:' ':bullettrain_front:'\n",
            " ':bullettrain_side:' ':railway_car:' ':steam_locomotive:' ':helicopter:'\n",
            " ':rocket:' ':pray:' ':two:' ':person_with_pouting_face:'\n",
            " ':person_frowning:' ':raised_hands:' ':raising_hand:' ':speak_no_evil:'\n",
            " ':hear_no_evil:' ':see_no_evil:' ':bow:' ':ok_woman:' ':no_good:'\n",
            " ':scream_cat:' ':crying_cat_face:' ':pouting_cat:' ':kissing_cat:'\n",
            " ':smirk_cat:' ':heart_eyes_cat:' ':smiley_cat:' ':joy_cat:' ':smile_cat:'\n",
            " ':mask:' ':no_mouth:' ':dizzy_face:' ':sleeping:' ':flushed:'\n",
            " ':astonished:' ':scream:' ':cold_sweat:' ':hushed:' ':open_mouth:'\n",
            " ':sob:' ':grimacing:' ':tired_face:' ':sleepy:' ':weary:' ':fearful:'\n",
            " ':anguished:' ':frowning:' ':disappointed_relieved:' ':triumph:'\n",
            " ':persevere:' ':cry:' ':rage:' ':angry:' ':worried:' ':disappointed:'\n",
            " ':stuck_out_tongue_closed_eyes:' ':stuck_out_tongue_winking_eye:'\n",
            " ':stuck_out_tongue:' ':kissing_closed_eyes:' ':kissing_smiling_eyes:'\n",
            " ':kissing_heart:' ':kissing:' ':confounded:' ':confused:' ':pensive:'\n",
            " ':sweat:' ':unamused:' ':expressionless:' ':neutral_face:' ':smirk:'\n",
            " ':sunglasses:' ':heart_eyes:' ':relieved:' ':yum:' ':blush:' ':wink:'\n",
            " ':smiling_imp:' ':innocent:' ':laughing:,:satisfied:' ':sweat_smile:'\n",
            " ':smile:' ':smiley:' ':joy:' ':grin:' ':grinning:' ':hash:'\n",
            " ':arrow_right_hook:' ':leftwards_arrow_with_hook:' ':moyai:' ':japan:'\n",
            " ':statue_of_liberty:' ':tokyo_tower:' ':mount_fuji:' ':secret:'\n",
            " ':congratulations:' ':arrow_lower_left:' ':arrow_lower_right:'\n",
            " ':arrow_upper_right:' ':arrow_upper_left:' ':arrow_up_down:'\n",
            " ':left_right_arrow:' ':loop:' ':curly_loop:' ':arrow_right:'\n",
            " ':information_source:' ':tm:' ':es:' ':clock1230:' ':clock1130:'\n",
            " ':clock1030:' ':clock930:' ':clock830:' ':heavy_division_sign:'\n",
            " ':clock730:' ':heavy_minus_sign:' ':clock630:' ':heavy_plus_sign:'\n",
            " ':clock530:' ':clock430:' ':clock330:' ':clock230:' ':clock130:'\n",
            " ':clock12:' ':clock11:' ':clock10:' ':clock9:' ':clock8:' ':clock7:'\n",
            " ':clock6:' ':clock5:' ':clock4:' ':clock3:' ':clock2:' ':clock1:'\n",
            " ':arrow_down_small:' ':arrow_up_small:' ':small_red_triangle_down:'\n",
            " ':small_red_triangle:' ':small_blue_diamond:' ':small_orange_diamond:'\n",
            " ':large_blue_diamond:' ':fr:' ':large_orange_diamond:'\n",
            " ':large_blue_circle:' ':red_circle:' ':white_square_button:'\n",
            " ':black_square_button:' ':trident:' ':beginner:' ':heart:'\n",
            " ':six_pointed_star:' ':crystal_ball:' ':telescope:' ':microscope:'\n",
            " ':gun:' ':hocho:,:knife:' ':nut_and_bolt:' ':hammer:' ':wrench:'\n",
            " ':flashlight:' ':fire:' ':abc:' ':symbols:'\n",
            " ':exclamation:,:heavy_exclamation_mark:' ':1234:' ':abcd:'\n",
            " ':grey_exclamation:' ':capital_abcd:' ':grey_question:' ':question:'\n",
            " ':keycap_ten:' ':underage:' ':top:' ':soon:' ':on:' ':end:'\n",
            " ':negative_squared_cross_mark:' ':x:' ':back:' ':radio_button:' ':link:'\n",
            " ':bookmark:' ':no_bell:' ':bell:' ':unlock:' ':sparkle:' ':lock:' ':key:'\n",
            " ':closed_lock_with_key:' ':snowflake:' ':lock_with_ink_pen:'\n",
            " ':mag_right:' ':mag:' ':electric_plug:' ':battery:' ':loud_sound:'\n",
            " ':sound:' ':speaker:' ':mute:' ':high_brightness:' ':low_brightness:'\n",
            " ':arrows_counterclockwise:' ':arrows_clockwise:' ':repeat_one:'\n",
            " ':repeat:' ':twisted_rightwards_arrows:' ':eight_pointed_black_star:'\n",
            " ':eight_spoked_asterisk:' ':sparkles:' ':heavy_multiplication_x:'\n",
            " ':heavy_check_mark:' ':black_nib:' ':gb:,:uk:' ':pencil2:' ':v:'\n",
            " ':hand:,:raised_hand:' ':fist:' ':email:,:envelope:' ':airplane:'\n",
            " ':white_check_mark:' ':scissors:' ':vhs:' ':radio:' ':tv:'\n",
            " ':video_camera:' ':camera:' ':signal_strength:' ':no_mobile_phones:'\n",
            " ':mobile_phone_off:' ':vibration_mode:' ':calling:' ':iphone:'\n",
            " ':newspaper:' ':postal_horn:' ':postbox:' ':mailbox_with_no_mail:'\n",
            " ':mailbox_with_mail:' ':mailbox:' ':mailbox_closed:'\n",
            " ':envelope_with_arrow:' ':incoming_envelope:' ':e-mail:' ':package:'\n",
            " ':inbox_tray:' ':outbox_tray:' ':mega:' ':loudspeaker:' ':satellite:'\n",
            " ':fax:' ':six:' ':it:' ':pager:' ':telephone_receiver:' ':memo:,:pencil:'\n",
            " ':scroll:' ':name_badge:' ':books:' ':orange_book:' ':blue_book:'\n",
            " ':green_book:' ':book:,:open_book:' ':closed_book:'\n",
            " ':notebook_with_decorative_cover:' ':notebook:' ':ledger:'\n",
            " ':bookmark_tabs:' ':triangular_ruler:' ':straight_ruler:' ':paperclip:'\n",
            " ':round_pushpin:' ':pushpin:' ':clipboard:' ':bar_chart:' ':fuelpump:'\n",
            " ':tent:' ':chart_with_downwards_trend:' ':chart_with_upwards_trend:'\n",
            " ':card_index:' ':calendar:' ':date:' ':page_facing_up:'\n",
            " ':page_with_curl:' ':open_file_folder:' ':file_folder:'\n",
            " ':boat:,:sailboat:' ':dvd:' ':golf:' ':fountain:' ':cd:' ':floppy_disk:'\n",
            " ':minidisc:' ':briefcase:' ':computer:' ':seat:' ':church:' ':chart:'\n",
            " ':money_with_wings:' ':pound:' ':euro:' ':dollar:' ':yen:'\n",
            " ':credit_card:' ':heavy_dollar_sign:' ':currency_exchange:' ':moneybag:'\n",
            " ':100:' ':white_flower:' ':thought_balloon:' ':speech_balloon:' ':dizzy:'\n",
            " ':muscle:' ':hankey:,:poop:,:shit:' ':dash:' ':droplet:' ':sweat_drops:'\n",
            " ':boom:,:collision:' ':zzz:' ':bomb:' ':anger:' ':bulb:'\n",
            " ':diamond_shape_with_a_dot_inside:' ':no_entry:' ':ophiuchus:' ':jp:'\n",
            " ':partly_sunny:' ':snowman:' ':baseball:' ':soccer:' ':black_circle:'\n",
            " ':white_circle:' ':zap:' ':warning:' ':interrobang:' ':bangbang:'\n",
            " ':heart_decoration:' ':revolving_hearts:' ':gift_heart:' ':purple_heart:'\n",
            " ':yellow_heart:' ':green_heart:' ':blue_heart:' ':cupid:' ':heartpulse:'\n",
            " ':sparkling_heart:' ':two_hearts:' ':broken_heart:' ':heartbeat:'\n",
            " ':wedding:' ':couple_with_heart:' ':bouquet:' ':couplekiss:' ':gem:'\n",
            " ':ring:' ':love_letter:' ':kiss:' ':pill:' ':syringe:' ':barber:'\n",
            " ':haircut:' ':massage:' ':nail_care:' ':lipstick:' ':dancer:'\n",
            " ':guardsman:' ':information_desk_person:' ':skull:' ':imp:'\n",
            " ':space_invader:' ':alien:' ':angel:' ':ghost:' ':japanese_goblin:'\n",
            " ':japanese_ogre:' ':princess:' ':construction_worker:' ':baby:'\n",
            " ':older_woman:' ':older_man:' ':man_with_turban:' ':man_with_gua_pi_mao:'\n",
            " ':person_with_blond_hair:' ':bride_with_veil:' ':dancers:' ':cop:'\n",
            " ':two_women_holding_hands:' ':two_men_holding_hands:' ':couple:'\n",
            " ':family:' ':woman:' ':man:' ':girl:' ':boy:' ':busts_in_silhouette:'\n",
            " ':bust_in_silhouette:' ':footprints:' ':boot:' ':sandal:' ':high_heel:'\n",
            " ':anchor:' ':athletic_shoe:' ':mans_shoe:,:shoe:' ':pouch:' ':handbag:'\n",
            " ':purse:' ':womans_clothes:' ':bikini:' ':kimono:' ':dress:' ':jeans:'\n",
            " ':shirt:,:tshirt:' ':us:' ':necktie:' ':eyeglasses:' ':womans_hat:'\n",
            " ':crown:' ':open_hands:' ':clap:' ':-1:,:thumbsdown:' ':+1:,:thumbsup:'\n",
            " ':ok_hand:' ':wave:' ':wheelchair:' ':facepunch:,:punch:' ':recycle:'\n",
            " ':point_right:' ':point_left:' ':point_down:' ':point_up_2:' ':tongue:'\n",
            " ':lips:' ':nose:' ':ear:' ':eyes:' ':feet:,:paw_prints:' ':pig_nose:'\n",
            " ':panda_face:' ':bear:' ':wolf:' ':hamster:' ':frog:' ':pig:' ':dog:'\n",
            " ':monkey_face:' ':horse:' ':hotsprings:' ':whale:' ':dragon_face:'\n",
            " ':diamonds:' ':cat:' ':hearts:' ':rabbit:' ':clubs:' ':spades:' ':tiger:'\n",
            " ':cow:' ':mouse:' ':dolphin:,:flipper:' ':camel:' ':dromedary_camel:'\n",
            " ':poodle:' ':koala:' ':penguin:' ':bird:' ':hatched_chick:'\n",
            " ':baby_chick:' ':hatching_chick:' ':turtle:' ':blowfish:'\n",
            " ':tropical_fish:' ':pisces:' ':aquarius:' ':capricorn:' ':sagittarius:'\n",
            " ':fish:' ':beetle:' ':bee:,:honeybee:' ':ant:' ':bug:' ':scorpius:'\n",
            " ':shell:' ':libra:' ':virgo:' ':leo:' ':cancer:' ':gemini:' ':octopus:'\n",
            " ':elephant:' ':boar:' ':pig2:' ':dog2:' ':taurus:' ':chicken:' ':aries:'\n",
            " ':rooster:' ':monkey:' ':sheep:' ':goat:' ':ram:' ':racehorse:' ':snake:'\n",
            " ':snail:' ':whale2:' ':crocodile:' ':relaxed:' ':dragon:' ':cat2:'\n",
            " ':rabbit2:' ':leopard:' ':tiger2:' ':cow2:' ':water_buffalo:' ':ox:'\n",
            " ':mouse2:' ':rat:' ':point_up:' ':coffee:' ':umbrella:'\n",
            " ':ballot_box_with_check:' ':phone:,:telephone:' ':cloud:' ':sunny:'\n",
            " ':nine:' ':five:' ':one:' ':european_castle:' ':japanese_castle:'\n",
            " ':izakaya_lantern:,:lantern:' ':factory:' ':department_store:' ':school:'\n",
            " ':convenience_store:' ':love_hotel:' ':hotel:' ':atm:' ':bank:'\n",
            " ':hospital:' ':european_post_office:' ':post_office:' ':office:'\n",
            " ':house_with_garden:' ':house:' ':swimmer:' ':black_medium_small_square:'\n",
            " ':white_medium_small_square:' ':black_medium_square:'\n",
            " ':white_medium_square:' ':rugby_football:' ':football:' ':horse_racing:'\n",
            " ':trophy:' ':surfer:' ':runner:,:running:' ':snowboarder:'\n",
            " ':checkered_flag:' ':basketball:' ':ski:' ':tennis:'\n",
            " ':running_shirt_with_sash:' ':musical_score:' ':violin:' ':trumpet:'\n",
            " ':musical_keyboard:' ':guitar:' ':saxophone:' ':notes:' ':musical_note:'\n",
            " ':flower_playing_cards:' ':bowling:' ':game_die:' ':8ball:'\n",
            " ':slot_machine:' ':dart:' ':video_game:' ':performing_arts:' ':clapper:'\n",
            " ':ticket:' ':circus_tent:' ':tophat:' ':art:' ':headphones:' ':cinema:'\n",
            " ':movie_camera:' ':microphone:' ':fishing_pole_and_fish:'\n",
            " ':roller_coaster:' ':ferris_wheel:' ':carousel_horse:' ':arrow_backward:'\n",
            " ':arrow_forward:' ':white_small_square:' ':black_small_square:'\n",
            " ':part_alternation_mark:' ':wavy_dash:' ':mortar_board:'\n",
            " ':school_satchel:' ':rice_scene:' ':wind_chime:' ':flags:' ':o:'\n",
            " ':dolls:' ':bamboo:' ':crossed_flags:' ':tanabata_tree:'\n",
            " ':confetti_ball:' ':star:' ':tada:' ':balloon:' ':sparkler:'\n",
            " ':fireworks:' ':santa:' ':christmas_tree:' ':jack_o_lantern:'\n",
            " ':birthday:' ':gift:' ':ribbon:' ':baby_bottle:' ':beers:' ':beer:'\n",
            " ':tropical_drink:' ':cocktail:' ':wine_glass:' ':sake:' ':tea:'\n",
            " ':fork_and_knife:' ':egg:' ':stew:' ':bento:' ':cake:' ':honey_pot:'\n",
            " ':custard:' ':lollipop:' ':candy:' ':chocolate_bar:' ':cookie:'\n",
            " ':doughnut:' ':ice_cream:' ':shaved_ice:' ':icecream:' ':fish_cake:'\n",
            " ':fried_shrimp:' ':sushi:' ':oden:' ':dango:' ':sweet_potato:' ':fries:'\n",
            " ':bread:' ':spaghetti:' ':ramen:' ':curry:' ':rice:' ':rice_ball:'\n",
            " ':rice_cracker:' ':poultry_leg:' ':meat_on_bone:' ':pizza:'\n",
            " ':white_large_square:' ':hamburger:' ':black_large_square:'\n",
            " ':strawberry:' ':cherries:' ':peach:' ':pear:' ':green_apple:' ':apple:'\n",
            " ':pineapple:' ':banana:' ':lemon:' ':tangerine:' ':watermelon:' ':melon:'\n",
            " ':grapes:' ':eggplant:' ':tomato:' ':mushroom:' ':leaves:'\n",
            " ':fallen_leaf:' ':maple_leaf:' ':four_leaf_clover:' ':arrow_down:'\n",
            " ':arrow_up:' ':herb:' ':arrow_left:' ':ear_of_rice:' ':corn:' ':blossom:'\n",
            " ':sunflower:' ':hibiscus:' ':rose:' ':cherry_blossom:' ':tulip:'\n",
            " ':cactus:' ':palm_tree:' ':deciduous_tree:' ':evergreen_tree:'\n",
            " ':seedling:' ':chestnut:' ':stars:' ':star2:' ':sun_with_face:'\n",
            " ':full_moon_with_face:' ':last_quarter_moon_with_face:'\n",
            " ':first_quarter_moon_with_face:' ':new_moon_with_face:' ':crescent_moon:'\n",
            " ':waning_crescent_moon:' ':last_quarter_moon:' ':waning_gibbous_moon:'\n",
            " ':full_moon:' ':moon:,:waxing_gibbous_moon:' ':first_quarter_moon:'\n",
            " ':waxing_crescent_moon:' ':new_moon:' ':globe_with_meridians:'\n",
            " ':earth_asia:' ':earth_americas:' ':earth_africa:' ':milky_way:'\n",
            " ':volcano:' ':ocean:' ':bridge_at_night:' ':rainbow:' ':city_sunrise:'\n",
            " ':city_sunset:' ':sunrise:' ':sunrise_over_mountains:'\n",
            " ':night_with_stars:' ':closed_umbrella:' ':foggy:' ':cyclone:']\n"
          ]
        }
      ]
    },
    {
      "cell_type": "code",
      "source": [
        "unique_values = emoji_df['category'].unique()\n",
        "print(unique_values)"
      ],
      "metadata": {
        "id": "Ch8custqkPYq",
        "outputId": "6af95568-47a3-4bba-f899-6ef380a869b6",
        "colab": {
          "base_uri": "https://localhost:8080/"
        }
      },
      "execution_count": 31,
      "outputs": [
        {
          "output_type": "stream",
          "name": "stdout",
          "text": [
            "['Miscellaneous Symbols And Pictographs -> Emoji modifiers' None\n",
            " 'Miscellaneous Symbols And Pictographs -> Hand symbols'\n",
            " 'Supplemental Symbols And Pictographs -> Animal symbols'\n",
            " 'Supplemental Symbols And Pictographs -> Food symbol'\n",
            " 'Supplemental Symbols And Pictographs -> Miscellaneous mark'\n",
            " 'Miscellaneous Symbols -> Map symbol from ARIB STD B24'\n",
            " 'Supplemental Symbols And Pictographs -> Portrait and role symbols'\n",
            " 'Supplemental Symbols And Pictographs -> Emoticon faces'\n",
            " 'Supplemental Symbols And Pictographs -> Hand symbols'\n",
            " 'Miscellaneous Symbols And Pictographs -> Sport symbols'\n",
            " 'Enclosed Alphanumerics -> Circled Latin letters'\n",
            " 'Miscellaneous Symbols And Pictographs -> Portrait and role symbols'\n",
            " 'Enclosed Ideographic Supplement -> Circled ideographs'\n",
            " 'Enclosed Ideographic Supplement -> Squared ideographs'\n",
            " 'Enclosed Ideographic Supplement -> Squared ideographs and kana from ARIB STD B24'\n",
            " 'Enclosed Ideographic Supplement -> Squared katakana'\n",
            " 'Miscellaneous Technical -> User interface symbols'\n",
            " 'Miscellaneous Symbols And Pictographs -> Fairy tale symbols'\n",
            " 'Miscellaneous Technical -> Keyboard and UI symbols'\n",
            " 'Enclosed Alphanumeric Supplement -> Squared Latin letter sequences'\n",
            " 'Enclosed Alphanumeric Supplement -> White on black squared Latin letters'\n",
            " 'Miscellaneous Technical -> Keyboard symbol'\n",
            " 'Miscellaneous Symbols And Pictographs -> Facial parts symbols'\n",
            " 'Emoticons -> Gesture symbols' 'Playing Cards -> Joker'\n",
            " 'Supplemental Arrows B -> Miscellaneous curved arrows'\n",
            " 'Latin 1 Supplement -> Latin-1 punctuation and symbols'\n",
            " 'Transport And Map Symbols -> Vehicles'\n",
            " 'Transport And Map Symbols -> Miscellaneous mark'\n",
            " 'Transport And Map Symbols -> Signage and other symbols'\n",
            " 'Transport And Map Symbols -> Accommodation symbol'\n",
            " 'Transport And Map Symbols -> Traffic signs'\n",
            " 'Mahjong Tiles -> Dragon tiles'\n",
            " 'Miscellaneous Symbols And Pictographs -> Role symbol'\n",
            " 'Emoticons -> Faces' 'Emoticons -> Cat faces'\n",
            " 'Miscellaneous Symbols And Pictographs -> Celebration symbols'\n",
            " 'Arrows -> Arrows with modifications'\n",
            " 'Miscellaneous Symbols And Pictographs -> Cultural symbols'\n",
            " 'Miscellaneous Symbols And Pictographs -> Map symbol'\n",
            " 'Miscellaneous Symbols And Pictographs -> Ballot symbols'\n",
            " 'Miscellaneous Symbols And Pictographs -> Bubble symbols'\n",
            " 'Miscellaneous Symbols And Pictographs -> Rating symbols'\n",
            " 'Miscellaneous Symbols And Pictographs -> Miscellaneous mark'\n",
            " 'Miscellaneous Symbols And Pictographs -> User interface symbols'\n",
            " 'Enclosed CJK Letters And Months -> Circled ideographs'\n",
            " 'Miscellaneous Symbols And Pictographs -> Office symbols'\n",
            " 'Arrows -> Simple arrows'\n",
            " 'Miscellaneous Symbols And Pictographs -> Computer symbols'\n",
            " 'Miscellaneous Symbols And Pictographs -> Heart symbol'\n",
            " 'Dingbats -> Miscellaneous' 'Dingbats -> Dingbat arrow'\n",
            " 'Letterlike Symbols -> Letterlike symbol'\n",
            " 'Miscellaneous Symbols And Pictographs -> Comic style symbols'\n",
            " 'Miscellaneous Symbols And Pictographs -> Communication symbols'\n",
            " 'Miscellaneous Symbols And Pictographs -> Game symbol'\n",
            " 'Miscellaneous Symbols And Pictographs -> Animal symbols'\n",
            " 'Miscellaneous Symbols And Pictographs -> Clock face symbols'\n",
            " 'Dingbats -> Heavy variants of arithmetic symbols'\n",
            " 'Miscellaneous Symbols -> Pointing hand symbols'\n",
            " 'Miscellaneous Symbols And Pictographs -> Religious symbol'\n",
            " 'Miscellaneous Symbols And Pictographs -> Geometric shapes'\n",
            " 'Dingbats -> Punctuation mark ornaments'\n",
            " 'Miscellaneous Symbols And Pictographs -> Tool symbols'\n",
            " 'Miscellaneous Symbols And Pictographs -> User interface input status symbols'\n",
            " 'Miscellaneous Symbols And Pictographs -> Enclosed alphanumeric symbols'\n",
            " 'Miscellaneous Symbols And Pictographs -> Words with arrows'\n",
            " 'Dingbats -> Stars, asterisks and snowflakes'\n",
            " 'Dingbats -> Stars and asterisks' 'Dingbats -> Crosses'\n",
            " 'Miscellaneous Symbols And Pictographs -> Audio and video symbols'\n",
            " 'Miscellaneous Symbols And Pictographs -> Money symbols'\n",
            " 'Miscellaneous Symbols And Pictographs -> Japanese school grade symbols'\n",
            " 'Miscellaneous Symbols -> Traffic sign from ARIB STD B24'\n",
            " 'Miscellaneous Symbols -> Zodiacal symbol'\n",
            " 'Miscellaneous Symbols -> Weather symbols from ARIB STD B24'\n",
            " 'Miscellaneous Symbols -> Sport symbols'\n",
            " 'Miscellaneous Symbols -> Genealogical symbols'\n",
            " 'Miscellaneous Symbols -> Circles'\n",
            " 'Miscellaneous Symbols -> Miscellaneous mark'\n",
            " 'General Punctuation -> Double punctuation for vertical text'\n",
            " 'Miscellaneous Symbols And Pictographs -> Romance symbols'\n",
            " 'Miscellaneous Symbols And Pictographs -> Medical symbols'\n",
            " 'Miscellaneous Symbols And Pictographs -> Personal care symbols'\n",
            " 'Miscellaneous Symbols -> Dictionary and map symbols'\n",
            " 'Miscellaneous Symbols And Pictographs -> Clothing and accessories'\n",
            " 'Miscellaneous Symbols -> Recycling symbols'\n",
            " 'Miscellaneous Symbols And Pictographs -> Animal faces'\n",
            " 'Miscellaneous Symbols -> Playing card symbols'\n",
            " 'Miscellaneous Symbols -> Astrological signs'\n",
            " 'Miscellaneous Symbols -> Emoticons'\n",
            " 'Miscellaneous Symbols -> Religious and political symbols'\n",
            " 'Miscellaneous Symbols -> Warning signs'\n",
            " 'Miscellaneous Symbols -> Weather symbol'\n",
            " 'Miscellaneous Symbols -> Weather and astrological symbols'\n",
            " 'Miscellaneous Symbols And Pictographs -> Rosettes'\n",
            " 'Miscellaneous Symbols And Pictographs -> Flag symbols'\n",
            " 'Miscellaneous Symbols And Pictographs -> Building and map symbols'\n",
            " 'Geometric Shapes -> Geometric shapes'\n",
            " 'Miscellaneous Symbols And Pictographs -> Musical symbols'\n",
            " 'Miscellaneous Symbols And Pictographs -> Entertainment symbols'\n",
            " 'CJK Symbols And Punctuation -> Other CJK punctuation'\n",
            " 'CJK Symbols And Punctuation -> CJK symbols'\n",
            " 'Miscellaneous Symbols And Arrows -> Traffic sign from ARIB STD B24'\n",
            " 'Miscellaneous Symbols And Arrows -> Stars'\n",
            " 'Miscellaneous Symbols And Pictographs -> Beverage and food symbols'\n",
            " 'Miscellaneous Symbols And Pictographs -> Accommodation symbol'\n",
            " 'Miscellaneous Symbols And Pictographs -> Beverage symbols'\n",
            " 'Miscellaneous Symbols And Pictographs -> Food symbol'\n",
            " 'Miscellaneous Symbols And Arrows -> Squares'\n",
            " 'Miscellaneous Symbols And Pictographs -> Fruit and vegetable symbols'\n",
            " 'Miscellaneous Symbols And Pictographs -> Plant symbols'\n",
            " 'Miscellaneous Symbols And Arrows -> White and black arrows'\n",
            " 'Miscellaneous Symbols And Pictographs -> Weather symbol'\n",
            " 'Miscellaneous Symbols And Pictographs -> Moon, sun, and star symbols'\n",
            " 'Miscellaneous Symbols And Pictographs -> Globe symbols'\n",
            " 'Miscellaneous Symbols And Pictographs -> Weather, landscape, and sky symbols']\n"
          ]
        }
      ]
    },
    {
      "cell_type": "code",
      "source": [
        "# Step 4: Preprocess the data to map context words to emojis\n",
        "def map_phrases_to_emojis(df):\n",
        "    mapping = {}\n",
        "    for _, row in df.iterrows():\n",
        "        for word in row.get(\"context_words\", []):  # Safely access context_words\n",
        "            mapping[word] = row[\"emoji\"]\n",
        "    return mapping\n",
        "\n",
        "emoji_mapping = map_phrases_to_emojis(emoji_df)\n",
        "print(\"Sample emoji mapping:\", list(emoji_mapping.items())[:5])\n"
      ],
      "metadata": {
        "colab": {
          "base_uri": "https://localhost:8080/"
        },
        "id": "kKxD6B4nNtra",
        "outputId": "5c403559-a22e-44a5-ee0d-8fdbcffb0c58"
      },
      "execution_count": 4,
      "outputs": [
        {
          "output_type": "stream",
          "name": "stdout",
          "text": [
            "Sample emoji mapping: []\n"
          ]
        }
      ]
    },
    {
      "cell_type": "code",
      "source": [
        "import nltk\n",
        "\n",
        "# Redownload 'punkt' tokenizer\n",
        "nltk.download('punkt', force=True)\n"
      ],
      "metadata": {
        "colab": {
          "base_uri": "https://localhost:8080/"
        },
        "id": "1HNQnmkLOH4A",
        "outputId": "e4b72e8f-2c92-44d5-c1fb-1ae893d6c730"
      },
      "execution_count": 5,
      "outputs": [
        {
          "output_type": "stream",
          "name": "stderr",
          "text": [
            "[nltk_data] Downloading package punkt to /root/nltk_data...\n",
            "[nltk_data]   Unzipping tokenizers/punkt.zip.\n"
          ]
        },
        {
          "output_type": "execute_result",
          "data": {
            "text/plain": [
              "True"
            ]
          },
          "metadata": {},
          "execution_count": 5
        }
      ]
    },
    {
      "cell_type": "code",
      "source": [
        "import nltk\n",
        "import os\n",
        "\n",
        "# Manually set the NLTK data directory\n",
        "nltk_data_path = '/root/nltk_data'\n",
        "os.makedirs(nltk_data_path, exist_ok=True)\n",
        "nltk.data.path.append(nltk_data_path)\n",
        "\n",
        "# Download the 'punkt' resource\n",
        "nltk.download('punkt', download_dir=nltk_data_path)\n"
      ],
      "metadata": {
        "colab": {
          "base_uri": "https://localhost:8080/"
        },
        "id": "PuGAbivwOKgx",
        "outputId": "a0aaf35a-ba98-4cde-a393-10843c0bfe42"
      },
      "execution_count": 6,
      "outputs": [
        {
          "output_type": "stream",
          "name": "stderr",
          "text": [
            "[nltk_data] Downloading package punkt to /root/nltk_data...\n",
            "[nltk_data]   Package punkt is already up-to-date!\n"
          ]
        },
        {
          "output_type": "execute_result",
          "data": {
            "text/plain": [
              "True"
            ]
          },
          "metadata": {},
          "execution_count": 6
        }
      ]
    },
    {
      "cell_type": "code",
      "source": [
        "import nltk\n",
        "import os\n",
        "\n",
        "# Download 'punkt_tab'\n",
        "nltk.download('punkt_tab')\n",
        "\n",
        "# Ensure NLTK data path is set correctly (if needed)\n",
        "nltk_data_path = '/root/nltk_data'\n",
        "os.makedirs(nltk_data_path, exist_ok=True)  # Create if doesn't exist\n",
        "nltk.data.path.append(nltk_data_path)      # Add to NLTK's search path"
      ],
      "metadata": {
        "colab": {
          "base_uri": "https://localhost:8080/"
        },
        "id": "Ym5N_hgBOu0A",
        "outputId": "6a1de3b5-898d-4f15-f35e-8266fbcc14cd"
      },
      "execution_count": 7,
      "outputs": [
        {
          "output_type": "stream",
          "name": "stderr",
          "text": [
            "[nltk_data] Downloading package punkt_tab to /root/nltk_data...\n",
            "[nltk_data]   Unzipping tokenizers/punkt_tab.zip.\n"
          ]
        }
      ]
    },
    {
      "cell_type": "code",
      "source": [
        "from nltk.tokenize import word_tokenize\n",
        "import nltk\n",
        "nltk.download('punkt')\n",
        "\n",
        "# Step 5: Tokenize and map text to emoji sequences\n",
        "def tokenize_text(text):\n",
        "    tokens = word_tokenize(text.lower())\n",
        "    return [emoji_mapping.get(token, token) for token in tokens]\n",
        "\n",
        "# Example text preprocessing\n",
        "text = \"I love sunny weather\"\n",
        "emoji_sequence = tokenize_text(text)\n",
        "print(\"Input Text:\", text)\n",
        "print(\"Emoji Sequence:\", emoji_sequence)\n"
      ],
      "metadata": {
        "colab": {
          "base_uri": "https://localhost:8080/"
        },
        "id": "JhyCHTNUNykL",
        "outputId": "f37c91e3-115a-41d1-95b7-ed52030f77c9"
      },
      "execution_count": 8,
      "outputs": [
        {
          "output_type": "stream",
          "name": "stdout",
          "text": [
            "Input Text: I love sunny weather\n",
            "Emoji Sequence: ['i', 'love', 'sunny', 'weather']\n"
          ]
        },
        {
          "output_type": "stream",
          "name": "stderr",
          "text": [
            "[nltk_data] Downloading package punkt to /root/nltk_data...\n",
            "[nltk_data]   Package punkt is already up-to-date!\n"
          ]
        }
      ]
    },
    {
      "cell_type": "code",
      "source": [
        "from transformers import AutoTokenizer, AutoModelForSeq2SeqLM\n",
        "import torch\n",
        "\n",
        "# Load a pre-trained transformer model\n",
        "tokenizer = AutoTokenizer.from_pretrained(\"bert-base-uncased\")\n",
        "model = AutoModelForSeq2SeqLM.from_pretrained(\"t5-small\")\n",
        "\n",
        "# Encode input text\n",
        "input_text = \"I love sunny weather\"\n",
        "inputs = tokenizer(input_text, return_tensors=\"pt\", max_length=512, truncation=True)\n",
        "\n",
        "# Generate emoji sequence\n",
        "outputs = model.generate(inputs[\"input_ids\"], max_length=10, num_return_sequences=1)\n",
        "emoji_sequence = tokenizer.decode(outputs[0], skip_special_tokens=True)\n",
        "print(\"Generated Emoji Sequence from Model:\", emoji_sequence)\n"
      ],
      "metadata": {
        "colab": {
          "base_uri": "https://localhost:8080/",
          "height": 138,
          "referenced_widgets": [
            "8607a3ce4550425b99bef5437b1f02f7",
            "f32bf02ca94347bb9514967c180e87f0",
            "3bfc948ea84e405dbd67de2e46fcda7a",
            "1f9cf9de55b64290a744b0f52c28b765",
            "0aff8c61ece8441e872353d1891fd7b5",
            "b52a050c678d44dcb7e6df882cd41a2c",
            "78f27f9090394db7ac712dcb9bb76f76"
          ]
        },
        "id": "y7E6_dcFO25_",
        "outputId": "54c18f4e-8930-4d19-b0db-83d361f85ffa"
      },
      "execution_count": 9,
      "outputs": [
        {
          "output_type": "stream",
          "name": "stderr",
          "text": [
            "/usr/local/lib/python3.10/dist-packages/huggingface_hub/utils/_auth.py:94: UserWarning: \n",
            "The secret `HF_TOKEN` does not exist in your Colab secrets.\n",
            "To authenticate with the Hugging Face Hub, create a token in your settings tab (https://huggingface.co/settings/tokens), set it as secret in your Google Colab and restart your session.\n",
            "You will be able to reuse this secret in all of your notebooks.\n",
            "Please note that authentication is recommended but still optional to access public models or datasets.\n",
            "  warnings.warn(\n"
          ]
        },
        {
          "output_type": "display_data",
          "data": {
            "text/plain": [
              "tokenizer_config.json:   0%|          | 0.00/48.0 [00:00<?, ?B/s]"
            ],
            "application/vnd.jupyter.widget-view+json": {
              "version_major": 2,
              "version_minor": 0,
              "model_id": "8607a3ce4550425b99bef5437b1f02f7"
            }
          },
          "metadata": {}
        },
        {
          "output_type": "display_data",
          "data": {
            "text/plain": [
              "config.json:   0%|          | 0.00/570 [00:00<?, ?B/s]"
            ],
            "application/vnd.jupyter.widget-view+json": {
              "version_major": 2,
              "version_minor": 0,
              "model_id": "f32bf02ca94347bb9514967c180e87f0"
            }
          },
          "metadata": {}
        },
        {
          "output_type": "display_data",
          "data": {
            "text/plain": [
              "vocab.txt:   0%|          | 0.00/232k [00:00<?, ?B/s]"
            ],
            "application/vnd.jupyter.widget-view+json": {
              "version_major": 2,
              "version_minor": 0,
              "model_id": "3bfc948ea84e405dbd67de2e46fcda7a"
            }
          },
          "metadata": {}
        },
        {
          "output_type": "display_data",
          "data": {
            "text/plain": [
              "tokenizer.json:   0%|          | 0.00/466k [00:00<?, ?B/s]"
            ],
            "application/vnd.jupyter.widget-view+json": {
              "version_major": 2,
              "version_minor": 0,
              "model_id": "1f9cf9de55b64290a744b0f52c28b765"
            }
          },
          "metadata": {}
        },
        {
          "output_type": "display_data",
          "data": {
            "text/plain": [
              "config.json:   0%|          | 0.00/1.21k [00:00<?, ?B/s]"
            ],
            "application/vnd.jupyter.widget-view+json": {
              "version_major": 2,
              "version_minor": 0,
              "model_id": "0aff8c61ece8441e872353d1891fd7b5"
            }
          },
          "metadata": {}
        },
        {
          "output_type": "display_data",
          "data": {
            "text/plain": [
              "model.safetensors:   0%|          | 0.00/242M [00:00<?, ?B/s]"
            ],
            "application/vnd.jupyter.widget-view+json": {
              "version_major": 2,
              "version_minor": 0,
              "model_id": "b52a050c678d44dcb7e6df882cd41a2c"
            }
          },
          "metadata": {}
        },
        {
          "output_type": "display_data",
          "data": {
            "text/plain": [
              "generation_config.json:   0%|          | 0.00/147 [00:00<?, ?B/s]"
            ],
            "application/vnd.jupyter.widget-view+json": {
              "version_major": 2,
              "version_minor": 0,
              "model_id": "78f27f9090394db7ac712dcb9bb76f76"
            }
          },
          "metadata": {}
        },
        {
          "output_type": "stream",
          "name": "stdout",
          "text": [
            "Generated Emoji Sequence from Model: i love love love love love love love love\n"
          ]
        }
      ]
    },
    {
      "source": [
        "!pip install vaderSentiment"
      ],
      "cell_type": "code",
      "metadata": {
        "colab": {
          "base_uri": "https://localhost:8080/"
        },
        "id": "eUwPSkk0Pekl",
        "outputId": "a14ecf16-a26d-4bd0-ea30-e60a2a497950"
      },
      "execution_count": 10,
      "outputs": [
        {
          "output_type": "stream",
          "name": "stdout",
          "text": [
            "Collecting vaderSentiment\n",
            "  Downloading vaderSentiment-3.3.2-py2.py3-none-any.whl.metadata (572 bytes)\n",
            "Requirement already satisfied: requests in /usr/local/lib/python3.10/dist-packages (from vaderSentiment) (2.32.3)\n",
            "Requirement already satisfied: charset-normalizer<4,>=2 in /usr/local/lib/python3.10/dist-packages (from requests->vaderSentiment) (3.4.0)\n",
            "Requirement already satisfied: idna<4,>=2.5 in /usr/local/lib/python3.10/dist-packages (from requests->vaderSentiment) (3.10)\n",
            "Requirement already satisfied: urllib3<3,>=1.21.1 in /usr/local/lib/python3.10/dist-packages (from requests->vaderSentiment) (2.2.3)\n",
            "Requirement already satisfied: certifi>=2017.4.17 in /usr/local/lib/python3.10/dist-packages (from requests->vaderSentiment) (2024.8.30)\n",
            "Downloading vaderSentiment-3.3.2-py2.py3-none-any.whl (125 kB)\n",
            "\u001b[2K   \u001b[90m━━━━━━━━━━━━━━━━━━━━━━━━━━━━━━━━━━━━━━━━\u001b[0m \u001b[32m126.0/126.0 kB\u001b[0m \u001b[31m2.3 MB/s\u001b[0m eta \u001b[36m0:00:00\u001b[0m\n",
            "\u001b[?25hInstalling collected packages: vaderSentiment\n",
            "Successfully installed vaderSentiment-3.3.2\n"
          ]
        }
      ]
    },
    {
      "source": [
        "from vaderSentiment.vaderSentiment import SentimentIntensityAnalyzer\n",
        "\n",
        "# Initialize VADER sentiment analyzer\n",
        "analyzer = SentimentIntensityAnalyzer()\n",
        "\n",
        "# Refine emoji selection based on sentiment\n",
        "def refine_with_sentiment(text, emoji_sequence):\n",
        "    sentiment = analyzer.polarity_scores(text)\n",
        "    tone = \"positive\" if sentiment[\"compound\"] > 0 else \"negative\"\n",
        "    refined_sequence = [emoji + (\"😊\" if tone == \"positive\" else \"😢\") for emoji in emoji_sequence]\n",
        "    return refined_sequence\n",
        "\n",
        "# Split the emoji sequence into a list of individual emojis\n",
        "emoji_sequence_list = list(emoji_sequence)\n",
        "\n",
        "refined_sequence = refine_with_sentiment(input_text, emoji_sequence_list)\n",
        "print(\"Refined Emoji Sequence Based on Sentiment:\", refined_sequence)"
      ],
      "cell_type": "code",
      "metadata": {
        "colab": {
          "base_uri": "https://localhost:8080/"
        },
        "id": "gThgN9IbPfKm",
        "outputId": "654b0dc5-2596-4651-c37f-fc91fa7c1681"
      },
      "execution_count": 12,
      "outputs": [
        {
          "output_type": "stream",
          "name": "stdout",
          "text": [
            "Refined Emoji Sequence Based on Sentiment: ['i😊', ' 😊', 'l😊', 'o😊', 'v😊', 'e😊', ' 😊', 'l😊', 'o😊', 'v😊', 'e😊', ' 😊', 'l😊', 'o😊', 'v😊', 'e😊', ' 😊', 'l😊', 'o😊', 'v😊', 'e😊', ' 😊', 'l😊', 'o😊', 'v😊', 'e😊', ' 😊', 'l😊', 'o😊', 'v😊', 'e😊', ' 😊', 'l😊', 'o😊', 'v😊', 'e😊', ' 😊', 'l😊', 'o😊', 'v😊', 'e😊']\n"
          ]
        }
      ]
    },
    {
      "cell_type": "code",
      "source": [
        "from vaderSentiment.vaderSentiment import SentimentIntensityAnalyzer\n",
        "\n",
        "# Initialize VADER sentiment analyzer\n",
        "analyzer = SentimentIntensityAnalyzer()\n",
        "\n",
        "# Refine emoji selection based on sentiment\n",
        "def refine_with_sentiment(text, emoji_sequence):\n",
        "    sentiment = analyzer.polarity_scores(text)\n",
        "    tone = \"positive\" if sentiment[\"compound\"] > 0 else \"negative\"\n",
        "    refined_sequence = [emoji + (\"😊\" if tone == \"positive\" else \"😢\") for emoji in emoji_sequence]\n",
        "    return refined_sequence\n",
        "\n",
        "refined_sequence = refine_with_sentiment(input_text, emoji_sequence.split())\n",
        "print(\"Refined Emoji Sequence Based on Sentiment:\", refined_sequence)\n"
      ],
      "metadata": {
        "colab": {
          "base_uri": "https://localhost:8080/"
        },
        "id": "axryKQr9PJvv",
        "outputId": "5a4db41a-a4cc-4a60-f59b-f926b49605b8"
      },
      "execution_count": 13,
      "outputs": [
        {
          "output_type": "stream",
          "name": "stdout",
          "text": [
            "Refined Emoji Sequence Based on Sentiment: ['i😊', 'love😊', 'love😊', 'love😊', 'love😊', 'love😊', 'love😊', 'love😊', 'love😊']\n"
          ]
        }
      ]
    },
    {
      "cell_type": "code",
      "source": [],
      "metadata": {
        "id": "DvgrPwmuPyce"
      },
      "execution_count": 13,
      "outputs": []
    },
    {
      "source": [
        "from transformers import AdamW, T5Tokenizer, AutoModelForSeq2SeqLM\n",
        "\n",
        "# Load a pre-trained T5 tokenizer and model\n",
        "tokenizer = T5Tokenizer.from_pretrained(\"t5-small\")  # Use T5 tokenizer\n",
        "model = AutoModelForSeq2SeqLM.from_pretrained(\"t5-small\")\n",
        "\n",
        "# Define optimizer\n",
        "optimizer = AdamW(model.parameters(), lr=1e-4)\n",
        "\n",
        "# Simple training loop (illustration, adjust as needed for your dataset)\n",
        "for epoch in range(3):  # Iterate through epochs\n",
        "    model.train()\n",
        "    inputs = tokenizer(\"I love sunny weather\", return_tensors=\"pt\", max_length=512, truncation=True)\n",
        "    labels = tokenizer(\"😊☀️\", return_tensors=\"pt\", max_length=10, truncation=True)[\"input_ids\"]\n",
        "\n",
        "    # Remove token_type_ids from inputs if present\n",
        "    if \"token_type_ids\" in inputs:\n",
        "        del inputs[\"token_type_ids\"]\n",
        "\n",
        "    outputs = model(**inputs, labels=labels)\n",
        "    loss = outputs.loss\n",
        "    loss.backward()\n",
        "    optimizer.step()\n",
        "    optimizer.zero_grad()\n",
        "\n",
        "    print(f\"Epoch {epoch + 1} Loss: {loss.item()}\")"
      ],
      "cell_type": "code",
      "metadata": {
        "colab": {
          "base_uri": "https://localhost:8080/",
          "height": 254,
          "referenced_widgets": [
            "e7d3730c5272446181ffcf7d6c706941",
            "68b4f5fd6ccc465c990ed045fb0dc882",
            "a2f2e2e7975644c18d4e662081ae52dd",
            "e8029589797e43e49335492555047222",
            "67450fb6f0954d7baa035121af9bd905",
            "37a2e6a287e64675b1f3d8ebef8be72b",
            "f6d82be250724a06b84c4747c98140ff",
            "d26f003656d640839e9040ab79dee46c",
            "27930cbd4b114c888fef29d961326ea6",
            "a7507b95b5624e6eb3e5be074046a1c4",
            "747babc72b884fb4bfab5899272721ff",
            "59f25f120f384e309117ff0ed531807b",
            "5cbcc6d3a297443287585dfb6f140543",
            "7c009505fec644f4b0707e0ff3246bc1",
            "6964b3dd47aa419090adbc8ac31a5c47",
            "206ce27cd7f542ca8e059775c20a178e",
            "4a1830f7f1a04e078d115afa690b83fc",
            "514c57d6f1974d068b7436fbc27e4746",
            "d9e0e63aa8a74a05845c916882213f79",
            "6611464be5eb4412b4e2b7dc50784546",
            "769d4a11149b4f96bb2b831d30f37fee",
            "a986955aa9b449de956a34189cc856db",
            "2c91cc47914d4ef19fa9e5b9235ce4a3",
            "7f44b44ee55741ef851c7dc20bd0cde4",
            "2683c69c61354be3b679ee6ce873644e",
            "1a1252c8840e4b0b8e68a5ac41c6fba1",
            "d2851c248e374a558f445f6c821b4c76",
            "36d099ff4a9348cdafc01a49445acfbd",
            "f256ece2516d487e830a0f1e255bd730",
            "3aed23295fc34687aa14348503186c50",
            "68c1a40628f342dba3b42235123de5ea",
            "871ad6a7e1ff44c5b4eb58997531b18c",
            "bcb96a55e1c346c99ed7b6c87ce4473d"
          ]
        },
        "id": "RsKywipSP3HL",
        "outputId": "b3e5636f-ee5a-4ae5-fcc4-91c76b558395"
      },
      "execution_count": 14,
      "outputs": [
        {
          "output_type": "display_data",
          "data": {
            "text/plain": [
              "tokenizer_config.json:   0%|          | 0.00/2.32k [00:00<?, ?B/s]"
            ],
            "application/vnd.jupyter.widget-view+json": {
              "version_major": 2,
              "version_minor": 0,
              "model_id": "e7d3730c5272446181ffcf7d6c706941"
            }
          },
          "metadata": {}
        },
        {
          "output_type": "display_data",
          "data": {
            "text/plain": [
              "spiece.model:   0%|          | 0.00/792k [00:00<?, ?B/s]"
            ],
            "application/vnd.jupyter.widget-view+json": {
              "version_major": 2,
              "version_minor": 0,
              "model_id": "59f25f120f384e309117ff0ed531807b"
            }
          },
          "metadata": {}
        },
        {
          "output_type": "display_data",
          "data": {
            "text/plain": [
              "tokenizer.json:   0%|          | 0.00/1.39M [00:00<?, ?B/s]"
            ],
            "application/vnd.jupyter.widget-view+json": {
              "version_major": 2,
              "version_minor": 0,
              "model_id": "2c91cc47914d4ef19fa9e5b9235ce4a3"
            }
          },
          "metadata": {}
        },
        {
          "output_type": "stream",
          "name": "stderr",
          "text": [
            "You are using the default legacy behaviour of the <class 'transformers.models.t5.tokenization_t5.T5Tokenizer'>. This is expected, and simply means that the `legacy` (previous) behavior will be used so nothing changes for you. If you want to use the new behaviour, set `legacy=False`. This should only be set if you understand what it means, and thoroughly read the reason why this was added as explained in https://github.com/huggingface/transformers/pull/24565\n",
            "/usr/local/lib/python3.10/dist-packages/transformers/optimization.py:591: FutureWarning: This implementation of AdamW is deprecated and will be removed in a future version. Use the PyTorch implementation torch.optim.AdamW instead, or set `no_deprecation_warning=True` to disable this warning\n",
            "  warnings.warn(\n",
            "Passing a tuple of `past_key_values` is deprecated and will be removed in Transformers v4.48.0. You should pass an instance of `EncoderDecoderCache` instead, e.g. `past_key_values=EncoderDecoderCache.from_legacy_cache(past_key_values)`.\n"
          ]
        },
        {
          "output_type": "stream",
          "name": "stdout",
          "text": [
            "Epoch 1 Loss: 3.1092119216918945\n",
            "Epoch 2 Loss: 3.8943707942962646\n",
            "Epoch 3 Loss: 1.7521663904190063\n"
          ]
        }
      ]
    },
    {
      "cell_type": "code",
      "source": [
        "from transformers import AdamW\n",
        "\n",
        "# Define optimizer\n",
        "optimizer = AdamW(model.parameters(), lr=1e-4)\n",
        "\n",
        "# Simple training loop (illustration, adjust as needed for your dataset)\n",
        "for epoch in range(3):  # Iterate through epochs\n",
        "    model.train()\n",
        "    inputs = tokenizer(\"I love sunny weather\", return_tensors=\"pt\", max_length=512, truncation=True)\n",
        "    labels = tokenizer(\"😊☀️\", return_tensors=\"pt\", max_length=10, truncation=True)[\"input_ids\"]\n",
        "\n",
        "    outputs = model(**inputs, labels=labels)\n",
        "    loss = outputs.loss\n",
        "    loss.backward()\n",
        "    optimizer.step()\n",
        "    optimizer.zero_grad()\n",
        "\n",
        "    print(f\"Epoch {epoch + 1} Loss: {loss.item()}\")\n"
      ],
      "metadata": {
        "colab": {
          "base_uri": "https://localhost:8080/"
        },
        "id": "r2eGfV9TPKQk",
        "outputId": "4ae52614-b1bf-4272-f6b6-f4e2ae8c638c"
      },
      "execution_count": 15,
      "outputs": [
        {
          "output_type": "stream",
          "name": "stdout",
          "text": [
            "Epoch 1 Loss: 3.131714105606079\n",
            "Epoch 2 Loss: 2.927790403366089\n",
            "Epoch 3 Loss: 2.789421319961548\n"
          ]
        }
      ]
    },
    {
      "cell_type": "code",
      "source": [],
      "metadata": {
        "id": "QsvULLfTRYc9"
      },
      "execution_count": null,
      "outputs": []
    },
    {
      "source": [
        "!pip install python-Levenshtein"
      ],
      "cell_type": "code",
      "metadata": {
        "colab": {
          "base_uri": "https://localhost:8080/"
        },
        "id": "3NYcPWiERdDP",
        "outputId": "40ea42fa-6643-4d26-c5cd-72411e20d19b"
      },
      "execution_count": 16,
      "outputs": [
        {
          "output_type": "stream",
          "name": "stdout",
          "text": [
            "Collecting python-Levenshtein\n",
            "  Downloading python_Levenshtein-0.26.1-py3-none-any.whl.metadata (3.7 kB)\n",
            "Collecting Levenshtein==0.26.1 (from python-Levenshtein)\n",
            "  Downloading levenshtein-0.26.1-cp310-cp310-manylinux_2_17_x86_64.manylinux2014_x86_64.whl.metadata (3.2 kB)\n",
            "Collecting rapidfuzz<4.0.0,>=3.9.0 (from Levenshtein==0.26.1->python-Levenshtein)\n",
            "  Downloading rapidfuzz-3.10.1-cp310-cp310-manylinux_2_17_x86_64.manylinux2014_x86_64.whl.metadata (11 kB)\n",
            "Downloading python_Levenshtein-0.26.1-py3-none-any.whl (9.4 kB)\n",
            "Downloading levenshtein-0.26.1-cp310-cp310-manylinux_2_17_x86_64.manylinux2014_x86_64.whl (162 kB)\n",
            "\u001b[2K   \u001b[90m━━━━━━━━━━━━━━━━━━━━━━━━━━━━━━━━━━━━━━━━\u001b[0m \u001b[32m162.6/162.6 kB\u001b[0m \u001b[31m4.1 MB/s\u001b[0m eta \u001b[36m0:00:00\u001b[0m\n",
            "\u001b[?25hDownloading rapidfuzz-3.10.1-cp310-cp310-manylinux_2_17_x86_64.manylinux2014_x86_64.whl (3.1 MB)\n",
            "\u001b[2K   \u001b[90m━━━━━━━━━━━━━━━━━━━━━━━━━━━━━━━━━━━━━━━━\u001b[0m \u001b[32m3.1/3.1 MB\u001b[0m \u001b[31m31.8 MB/s\u001b[0m eta \u001b[36m0:00:00\u001b[0m\n",
            "\u001b[?25hInstalling collected packages: rapidfuzz, Levenshtein, python-Levenshtein\n",
            "Successfully installed Levenshtein-0.26.1 python-Levenshtein-0.26.1 rapidfuzz-3.10.1\n"
          ]
        }
      ]
    },
    {
      "source": [
        "from Levenshtein import distance as levenshtein_distance\n",
        "\n",
        "# Evaluate emoji sequence matching\n",
        "def evaluate_sequences(predicted, actual):\n",
        "    score = levenshtein_distance(predicted, actual)\n",
        "    return score\n",
        "\n",
        "predicted_sequence = \"😊☀️\"\n",
        "actual_sequence = \"😊☀️\"\n",
        "score = evaluate_sequences(predicted_sequence, actual_sequence)\n",
        "print(\"Levenshtein Distance Between Sequences:\", score)"
      ],
      "cell_type": "code",
      "metadata": {
        "colab": {
          "base_uri": "https://localhost:8080/"
        },
        "id": "Pyhp6qv-Rdsa",
        "outputId": "d4b85d57-1d80-479f-d61d-7f44e520f7cb"
      },
      "execution_count": 17,
      "outputs": [
        {
          "output_type": "stream",
          "name": "stdout",
          "text": [
            "Levenshtein Distance Between Sequences: 0\n"
          ]
        }
      ]
    }
  ]
}